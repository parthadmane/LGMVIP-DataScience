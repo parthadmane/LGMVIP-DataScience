{
  "nbformat": 4,
  "nbformat_minor": 0,
  "metadata": {
    "colab": {
      "name": "LGMVIP_TASK2.ipynb",
      "provenance": []
    },
    "kernelspec": {
      "name": "python3",
      "display_name": "Python 3"
    },
    "language_info": {
      "name": "python"
    }
  },
  "cells": [
    {
      "cell_type": "code",
      "execution_count": 1,
      "metadata": {
        "id": "88mnDEjvhCK9"
      },
      "outputs": [],
      "source": [
        "import pandas as pd\n",
        "import pandas as pd\n",
        "import numpy as np\n",
        "import math\n",
        "import matplotlib.pyplot as plt\n",
        "from sklearn.preprocessing import MinMaxScaler\n",
        "from sklearn.metrics import mean_squared_error"
      ]
    },
    {
      "cell_type": "code",
      "source": [
        "import tensorflow as tf\n",
        "from tensorflow.python.keras.models import Sequential\n",
        "from tensorflow.python.keras.layers import Dense\n",
        "from tensorflow.python.keras.layers import LSTM\n",
        "%matplotlib inline"
      ],
      "metadata": {
        "id": "s-fuaRZDhiFe"
      },
      "execution_count": 2,
      "outputs": []
    },
    {
      "cell_type": "code",
      "source": [
        "data = pd.read_csv(\"https://raw.githubusercontent.com/mwitiderrick/stockprice/master/NSE-TATAGLOBAL.csv\")\n",
        "data.head()"
      ],
      "metadata": {
        "colab": {
          "base_uri": "https://localhost:8080/",
          "height": 206
        },
        "id": "bXuIb4mnhm4_",
        "outputId": "e1a1ffc3-618c-45c2-de35-d081cfce1dba"
      },
      "execution_count": 3,
      "outputs": [
        {
          "output_type": "execute_result",
          "data": {
            "text/html": [
              "\n",
              "  <div id=\"df-e36d5010-a789-49f6-b29d-3201fbad6045\">\n",
              "    <div class=\"colab-df-container\">\n",
              "      <div>\n",
              "<style scoped>\n",
              "    .dataframe tbody tr th:only-of-type {\n",
              "        vertical-align: middle;\n",
              "    }\n",
              "\n",
              "    .dataframe tbody tr th {\n",
              "        vertical-align: top;\n",
              "    }\n",
              "\n",
              "    .dataframe thead th {\n",
              "        text-align: right;\n",
              "    }\n",
              "</style>\n",
              "<table border=\"1\" class=\"dataframe\">\n",
              "  <thead>\n",
              "    <tr style=\"text-align: right;\">\n",
              "      <th></th>\n",
              "      <th>Date</th>\n",
              "      <th>Open</th>\n",
              "      <th>High</th>\n",
              "      <th>Low</th>\n",
              "      <th>Last</th>\n",
              "      <th>Close</th>\n",
              "      <th>Total Trade Quantity</th>\n",
              "      <th>Turnover (Lacs)</th>\n",
              "    </tr>\n",
              "  </thead>\n",
              "  <tbody>\n",
              "    <tr>\n",
              "      <th>0</th>\n",
              "      <td>2018-09-28</td>\n",
              "      <td>234.05</td>\n",
              "      <td>235.95</td>\n",
              "      <td>230.20</td>\n",
              "      <td>233.50</td>\n",
              "      <td>233.75</td>\n",
              "      <td>3069914</td>\n",
              "      <td>7162.35</td>\n",
              "    </tr>\n",
              "    <tr>\n",
              "      <th>1</th>\n",
              "      <td>2018-09-27</td>\n",
              "      <td>234.55</td>\n",
              "      <td>236.80</td>\n",
              "      <td>231.10</td>\n",
              "      <td>233.80</td>\n",
              "      <td>233.25</td>\n",
              "      <td>5082859</td>\n",
              "      <td>11859.95</td>\n",
              "    </tr>\n",
              "    <tr>\n",
              "      <th>2</th>\n",
              "      <td>2018-09-26</td>\n",
              "      <td>240.00</td>\n",
              "      <td>240.00</td>\n",
              "      <td>232.50</td>\n",
              "      <td>235.00</td>\n",
              "      <td>234.25</td>\n",
              "      <td>2240909</td>\n",
              "      <td>5248.60</td>\n",
              "    </tr>\n",
              "    <tr>\n",
              "      <th>3</th>\n",
              "      <td>2018-09-25</td>\n",
              "      <td>233.30</td>\n",
              "      <td>236.75</td>\n",
              "      <td>232.00</td>\n",
              "      <td>236.25</td>\n",
              "      <td>236.10</td>\n",
              "      <td>2349368</td>\n",
              "      <td>5503.90</td>\n",
              "    </tr>\n",
              "    <tr>\n",
              "      <th>4</th>\n",
              "      <td>2018-09-24</td>\n",
              "      <td>233.55</td>\n",
              "      <td>239.20</td>\n",
              "      <td>230.75</td>\n",
              "      <td>234.00</td>\n",
              "      <td>233.30</td>\n",
              "      <td>3423509</td>\n",
              "      <td>7999.55</td>\n",
              "    </tr>\n",
              "  </tbody>\n",
              "</table>\n",
              "</div>\n",
              "      <button class=\"colab-df-convert\" onclick=\"convertToInteractive('df-e36d5010-a789-49f6-b29d-3201fbad6045')\"\n",
              "              title=\"Convert this dataframe to an interactive table.\"\n",
              "              style=\"display:none;\">\n",
              "        \n",
              "  <svg xmlns=\"http://www.w3.org/2000/svg\" height=\"24px\"viewBox=\"0 0 24 24\"\n",
              "       width=\"24px\">\n",
              "    <path d=\"M0 0h24v24H0V0z\" fill=\"none\"/>\n",
              "    <path d=\"M18.56 5.44l.94 2.06.94-2.06 2.06-.94-2.06-.94-.94-2.06-.94 2.06-2.06.94zm-11 1L8.5 8.5l.94-2.06 2.06-.94-2.06-.94L8.5 2.5l-.94 2.06-2.06.94zm10 10l.94 2.06.94-2.06 2.06-.94-2.06-.94-.94-2.06-.94 2.06-2.06.94z\"/><path d=\"M17.41 7.96l-1.37-1.37c-.4-.4-.92-.59-1.43-.59-.52 0-1.04.2-1.43.59L10.3 9.45l-7.72 7.72c-.78.78-.78 2.05 0 2.83L4 21.41c.39.39.9.59 1.41.59.51 0 1.02-.2 1.41-.59l7.78-7.78 2.81-2.81c.8-.78.8-2.07 0-2.86zM5.41 20L4 18.59l7.72-7.72 1.47 1.35L5.41 20z\"/>\n",
              "  </svg>\n",
              "      </button>\n",
              "      \n",
              "  <style>\n",
              "    .colab-df-container {\n",
              "      display:flex;\n",
              "      flex-wrap:wrap;\n",
              "      gap: 12px;\n",
              "    }\n",
              "\n",
              "    .colab-df-convert {\n",
              "      background-color: #E8F0FE;\n",
              "      border: none;\n",
              "      border-radius: 50%;\n",
              "      cursor: pointer;\n",
              "      display: none;\n",
              "      fill: #1967D2;\n",
              "      height: 32px;\n",
              "      padding: 0 0 0 0;\n",
              "      width: 32px;\n",
              "    }\n",
              "\n",
              "    .colab-df-convert:hover {\n",
              "      background-color: #E2EBFA;\n",
              "      box-shadow: 0px 1px 2px rgba(60, 64, 67, 0.3), 0px 1px 3px 1px rgba(60, 64, 67, 0.15);\n",
              "      fill: #174EA6;\n",
              "    }\n",
              "\n",
              "    [theme=dark] .colab-df-convert {\n",
              "      background-color: #3B4455;\n",
              "      fill: #D2E3FC;\n",
              "    }\n",
              "\n",
              "    [theme=dark] .colab-df-convert:hover {\n",
              "      background-color: #434B5C;\n",
              "      box-shadow: 0px 1px 3px 1px rgba(0, 0, 0, 0.15);\n",
              "      filter: drop-shadow(0px 1px 2px rgba(0, 0, 0, 0.3));\n",
              "      fill: #FFFFFF;\n",
              "    }\n",
              "  </style>\n",
              "\n",
              "      <script>\n",
              "        const buttonEl =\n",
              "          document.querySelector('#df-e36d5010-a789-49f6-b29d-3201fbad6045 button.colab-df-convert');\n",
              "        buttonEl.style.display =\n",
              "          google.colab.kernel.accessAllowed ? 'block' : 'none';\n",
              "\n",
              "        async function convertToInteractive(key) {\n",
              "          const element = document.querySelector('#df-e36d5010-a789-49f6-b29d-3201fbad6045');\n",
              "          const dataTable =\n",
              "            await google.colab.kernel.invokeFunction('convertToInteractive',\n",
              "                                                     [key], {});\n",
              "          if (!dataTable) return;\n",
              "\n",
              "          const docLinkHtml = 'Like what you see? Visit the ' +\n",
              "            '<a target=\"_blank\" href=https://colab.research.google.com/notebooks/data_table.ipynb>data table notebook</a>'\n",
              "            + ' to learn more about interactive tables.';\n",
              "          element.innerHTML = '';\n",
              "          dataTable['output_type'] = 'display_data';\n",
              "          await google.colab.output.renderOutput(dataTable, element);\n",
              "          const docLink = document.createElement('div');\n",
              "          docLink.innerHTML = docLinkHtml;\n",
              "          element.appendChild(docLink);\n",
              "        }\n",
              "      </script>\n",
              "    </div>\n",
              "  </div>\n",
              "  "
            ],
            "text/plain": [
              "         Date    Open    High  ...   Close  Total Trade Quantity  Turnover (Lacs)\n",
              "0  2018-09-28  234.05  235.95  ...  233.75               3069914          7162.35\n",
              "1  2018-09-27  234.55  236.80  ...  233.25               5082859         11859.95\n",
              "2  2018-09-26  240.00  240.00  ...  234.25               2240909          5248.60\n",
              "3  2018-09-25  233.30  236.75  ...  236.10               2349368          5503.90\n",
              "4  2018-09-24  233.55  239.20  ...  233.30               3423509          7999.55\n",
              "\n",
              "[5 rows x 8 columns]"
            ]
          },
          "metadata": {},
          "execution_count": 3
        }
      ]
    },
    {
      "cell_type": "code",
      "source": [
        "data.tail()"
      ],
      "metadata": {
        "colab": {
          "base_uri": "https://localhost:8080/",
          "height": 206
        },
        "id": "XhvVGsXPho69",
        "outputId": "a6fa9b1a-29a1-468e-958f-dc22ef29d92a"
      },
      "execution_count": 4,
      "outputs": [
        {
          "output_type": "execute_result",
          "data": {
            "text/html": [
              "\n",
              "  <div id=\"df-6836f031-eb1f-4712-8b3a-2892e7568752\">\n",
              "    <div class=\"colab-df-container\">\n",
              "      <div>\n",
              "<style scoped>\n",
              "    .dataframe tbody tr th:only-of-type {\n",
              "        vertical-align: middle;\n",
              "    }\n",
              "\n",
              "    .dataframe tbody tr th {\n",
              "        vertical-align: top;\n",
              "    }\n",
              "\n",
              "    .dataframe thead th {\n",
              "        text-align: right;\n",
              "    }\n",
              "</style>\n",
              "<table border=\"1\" class=\"dataframe\">\n",
              "  <thead>\n",
              "    <tr style=\"text-align: right;\">\n",
              "      <th></th>\n",
              "      <th>Date</th>\n",
              "      <th>Open</th>\n",
              "      <th>High</th>\n",
              "      <th>Low</th>\n",
              "      <th>Last</th>\n",
              "      <th>Close</th>\n",
              "      <th>Total Trade Quantity</th>\n",
              "      <th>Turnover (Lacs)</th>\n",
              "    </tr>\n",
              "  </thead>\n",
              "  <tbody>\n",
              "    <tr>\n",
              "      <th>2030</th>\n",
              "      <td>2010-07-27</td>\n",
              "      <td>117.6</td>\n",
              "      <td>119.50</td>\n",
              "      <td>112.00</td>\n",
              "      <td>118.80</td>\n",
              "      <td>118.65</td>\n",
              "      <td>586100</td>\n",
              "      <td>694.98</td>\n",
              "    </tr>\n",
              "    <tr>\n",
              "      <th>2031</th>\n",
              "      <td>2010-07-26</td>\n",
              "      <td>120.1</td>\n",
              "      <td>121.00</td>\n",
              "      <td>117.10</td>\n",
              "      <td>117.10</td>\n",
              "      <td>117.60</td>\n",
              "      <td>658440</td>\n",
              "      <td>780.01</td>\n",
              "    </tr>\n",
              "    <tr>\n",
              "      <th>2032</th>\n",
              "      <td>2010-07-23</td>\n",
              "      <td>121.8</td>\n",
              "      <td>121.95</td>\n",
              "      <td>120.25</td>\n",
              "      <td>120.35</td>\n",
              "      <td>120.65</td>\n",
              "      <td>281312</td>\n",
              "      <td>340.31</td>\n",
              "    </tr>\n",
              "    <tr>\n",
              "      <th>2033</th>\n",
              "      <td>2010-07-22</td>\n",
              "      <td>120.3</td>\n",
              "      <td>122.00</td>\n",
              "      <td>120.25</td>\n",
              "      <td>120.75</td>\n",
              "      <td>120.90</td>\n",
              "      <td>293312</td>\n",
              "      <td>355.17</td>\n",
              "    </tr>\n",
              "    <tr>\n",
              "      <th>2034</th>\n",
              "      <td>2010-07-21</td>\n",
              "      <td>122.1</td>\n",
              "      <td>123.00</td>\n",
              "      <td>121.05</td>\n",
              "      <td>121.10</td>\n",
              "      <td>121.55</td>\n",
              "      <td>658666</td>\n",
              "      <td>803.56</td>\n",
              "    </tr>\n",
              "  </tbody>\n",
              "</table>\n",
              "</div>\n",
              "      <button class=\"colab-df-convert\" onclick=\"convertToInteractive('df-6836f031-eb1f-4712-8b3a-2892e7568752')\"\n",
              "              title=\"Convert this dataframe to an interactive table.\"\n",
              "              style=\"display:none;\">\n",
              "        \n",
              "  <svg xmlns=\"http://www.w3.org/2000/svg\" height=\"24px\"viewBox=\"0 0 24 24\"\n",
              "       width=\"24px\">\n",
              "    <path d=\"M0 0h24v24H0V0z\" fill=\"none\"/>\n",
              "    <path d=\"M18.56 5.44l.94 2.06.94-2.06 2.06-.94-2.06-.94-.94-2.06-.94 2.06-2.06.94zm-11 1L8.5 8.5l.94-2.06 2.06-.94-2.06-.94L8.5 2.5l-.94 2.06-2.06.94zm10 10l.94 2.06.94-2.06 2.06-.94-2.06-.94-.94-2.06-.94 2.06-2.06.94z\"/><path d=\"M17.41 7.96l-1.37-1.37c-.4-.4-.92-.59-1.43-.59-.52 0-1.04.2-1.43.59L10.3 9.45l-7.72 7.72c-.78.78-.78 2.05 0 2.83L4 21.41c.39.39.9.59 1.41.59.51 0 1.02-.2 1.41-.59l7.78-7.78 2.81-2.81c.8-.78.8-2.07 0-2.86zM5.41 20L4 18.59l7.72-7.72 1.47 1.35L5.41 20z\"/>\n",
              "  </svg>\n",
              "      </button>\n",
              "      \n",
              "  <style>\n",
              "    .colab-df-container {\n",
              "      display:flex;\n",
              "      flex-wrap:wrap;\n",
              "      gap: 12px;\n",
              "    }\n",
              "\n",
              "    .colab-df-convert {\n",
              "      background-color: #E8F0FE;\n",
              "      border: none;\n",
              "      border-radius: 50%;\n",
              "      cursor: pointer;\n",
              "      display: none;\n",
              "      fill: #1967D2;\n",
              "      height: 32px;\n",
              "      padding: 0 0 0 0;\n",
              "      width: 32px;\n",
              "    }\n",
              "\n",
              "    .colab-df-convert:hover {\n",
              "      background-color: #E2EBFA;\n",
              "      box-shadow: 0px 1px 2px rgba(60, 64, 67, 0.3), 0px 1px 3px 1px rgba(60, 64, 67, 0.15);\n",
              "      fill: #174EA6;\n",
              "    }\n",
              "\n",
              "    [theme=dark] .colab-df-convert {\n",
              "      background-color: #3B4455;\n",
              "      fill: #D2E3FC;\n",
              "    }\n",
              "\n",
              "    [theme=dark] .colab-df-convert:hover {\n",
              "      background-color: #434B5C;\n",
              "      box-shadow: 0px 1px 3px 1px rgba(0, 0, 0, 0.15);\n",
              "      filter: drop-shadow(0px 1px 2px rgba(0, 0, 0, 0.3));\n",
              "      fill: #FFFFFF;\n",
              "    }\n",
              "  </style>\n",
              "\n",
              "      <script>\n",
              "        const buttonEl =\n",
              "          document.querySelector('#df-6836f031-eb1f-4712-8b3a-2892e7568752 button.colab-df-convert');\n",
              "        buttonEl.style.display =\n",
              "          google.colab.kernel.accessAllowed ? 'block' : 'none';\n",
              "\n",
              "        async function convertToInteractive(key) {\n",
              "          const element = document.querySelector('#df-6836f031-eb1f-4712-8b3a-2892e7568752');\n",
              "          const dataTable =\n",
              "            await google.colab.kernel.invokeFunction('convertToInteractive',\n",
              "                                                     [key], {});\n",
              "          if (!dataTable) return;\n",
              "\n",
              "          const docLinkHtml = 'Like what you see? Visit the ' +\n",
              "            '<a target=\"_blank\" href=https://colab.research.google.com/notebooks/data_table.ipynb>data table notebook</a>'\n",
              "            + ' to learn more about interactive tables.';\n",
              "          element.innerHTML = '';\n",
              "          dataTable['output_type'] = 'display_data';\n",
              "          await google.colab.output.renderOutput(dataTable, element);\n",
              "          const docLink = document.createElement('div');\n",
              "          docLink.innerHTML = docLinkHtml;\n",
              "          element.appendChild(docLink);\n",
              "        }\n",
              "      </script>\n",
              "    </div>\n",
              "  </div>\n",
              "  "
            ],
            "text/plain": [
              "            Date   Open    High  ...   Close  Total Trade Quantity  Turnover (Lacs)\n",
              "2030  2010-07-27  117.6  119.50  ...  118.65                586100           694.98\n",
              "2031  2010-07-26  120.1  121.00  ...  117.60                658440           780.01\n",
              "2032  2010-07-23  121.8  121.95  ...  120.65                281312           340.31\n",
              "2033  2010-07-22  120.3  122.00  ...  120.90                293312           355.17\n",
              "2034  2010-07-21  122.1  123.00  ...  121.55                658666           803.56\n",
              "\n",
              "[5 rows x 8 columns]"
            ]
          },
          "metadata": {},
          "execution_count": 4
        }
      ]
    },
    {
      "cell_type": "code",
      "source": [
        "df=data.reset_index()['Close']\n",
        "df"
      ],
      "metadata": {
        "colab": {
          "base_uri": "https://localhost:8080/"
        },
        "id": "OmDNtY-3htXg",
        "outputId": "7374b6ed-ed5e-4aa2-e118-3d0530383a2f"
      },
      "execution_count": 5,
      "outputs": [
        {
          "output_type": "execute_result",
          "data": {
            "text/plain": [
              "0       233.75\n",
              "1       233.25\n",
              "2       234.25\n",
              "3       236.10\n",
              "4       233.30\n",
              "         ...  \n",
              "2030    118.65\n",
              "2031    117.60\n",
              "2032    120.65\n",
              "2033    120.90\n",
              "2034    121.55\n",
              "Name: Close, Length: 2035, dtype: float64"
            ]
          },
          "metadata": {},
          "execution_count": 5
        }
      ]
    },
    {
      "cell_type": "code",
      "source": [
        "plt.plot(df)"
      ],
      "metadata": {
        "colab": {
          "base_uri": "https://localhost:8080/",
          "height": 282
        },
        "id": "xXafcH0fhy_I",
        "outputId": "4ddfe78f-2f63-48e7-8c7b-72f465137c35"
      },
      "execution_count": 6,
      "outputs": [
        {
          "output_type": "execute_result",
          "data": {
            "text/plain": [
              "[<matplotlib.lines.Line2D at 0x7f19fa687c10>]"
            ]
          },
          "metadata": {},
          "execution_count": 6
        },
        {
          "output_type": "display_data",
          "data": {
            "image/png": "[encoded data removed]",
            "text/plain": [
              "<Figure size 432x288 with 1 Axes>"
            ]
          },
          "metadata": {
            "needs_background": "light"
          }
        }
      ]
    },
    {
      "cell_type": "code",
      "source": [
        "data.describe()"
      ],
      "metadata": {
        "colab": {
          "base_uri": "https://localhost:8080/",
          "height": 300
        },
        "id": "ivWTA0a-h0eg",
        "outputId": "62f1a4a3-1e49-4109-b5ef-f678e88b4d17"
      },
      "execution_count": 7,
      "outputs": [
        {
          "output_type": "execute_result",
          "data": {
            "text/html": [
              "\n",
              "  <div id=\"df-f0040466-b276-400d-b795-4982ae15b23d\">\n",
              "    <div class=\"colab-df-container\">\n",
              "      <div>\n",
              "<style scoped>\n",
              "    .dataframe tbody tr th:only-of-type {\n",
              "        vertical-align: middle;\n",
              "    }\n",
              "\n",
              "    .dataframe tbody tr th {\n",
              "        vertical-align: top;\n",
              "    }\n",
              "\n",
              "    .dataframe thead th {\n",
              "        text-align: right;\n",
              "    }\n",
              "</style>\n",
              "<table border=\"1\" class=\"dataframe\">\n",
              "  <thead>\n",
              "    <tr style=\"text-align: right;\">\n",
              "      <th></th>\n",
              "      <th>Open</th>\n",
              "      <th>High</th>\n",
              "      <th>Low</th>\n",
              "      <th>Last</th>\n",
              "      <th>Close</th>\n",
              "      <th>Total Trade Quantity</th>\n",
              "      <th>Turnover (Lacs)</th>\n",
              "    </tr>\n",
              "  </thead>\n",
              "  <tbody>\n",
              "    <tr>\n",
              "      <th>count</th>\n",
              "      <td>2035.000000</td>\n",
              "      <td>2035.000000</td>\n",
              "      <td>2035.000000</td>\n",
              "      <td>2035.000000</td>\n",
              "      <td>2035.00000</td>\n",
              "      <td>2.035000e+03</td>\n",
              "      <td>2035.000000</td>\n",
              "    </tr>\n",
              "    <tr>\n",
              "      <th>mean</th>\n",
              "      <td>149.713735</td>\n",
              "      <td>151.992826</td>\n",
              "      <td>147.293931</td>\n",
              "      <td>149.474251</td>\n",
              "      <td>149.45027</td>\n",
              "      <td>2.335681e+06</td>\n",
              "      <td>3899.980565</td>\n",
              "    </tr>\n",
              "    <tr>\n",
              "      <th>std</th>\n",
              "      <td>48.664509</td>\n",
              "      <td>49.413109</td>\n",
              "      <td>47.931958</td>\n",
              "      <td>48.732570</td>\n",
              "      <td>48.71204</td>\n",
              "      <td>2.091778e+06</td>\n",
              "      <td>4570.767877</td>\n",
              "    </tr>\n",
              "    <tr>\n",
              "      <th>min</th>\n",
              "      <td>81.100000</td>\n",
              "      <td>82.800000</td>\n",
              "      <td>80.000000</td>\n",
              "      <td>81.000000</td>\n",
              "      <td>80.95000</td>\n",
              "      <td>3.961000e+04</td>\n",
              "      <td>37.040000</td>\n",
              "    </tr>\n",
              "    <tr>\n",
              "      <th>25%</th>\n",
              "      <td>120.025000</td>\n",
              "      <td>122.100000</td>\n",
              "      <td>118.300000</td>\n",
              "      <td>120.075000</td>\n",
              "      <td>120.05000</td>\n",
              "      <td>1.146444e+06</td>\n",
              "      <td>1427.460000</td>\n",
              "    </tr>\n",
              "    <tr>\n",
              "      <th>50%</th>\n",
              "      <td>141.500000</td>\n",
              "      <td>143.400000</td>\n",
              "      <td>139.600000</td>\n",
              "      <td>141.100000</td>\n",
              "      <td>141.25000</td>\n",
              "      <td>1.783456e+06</td>\n",
              "      <td>2512.030000</td>\n",
              "    </tr>\n",
              "    <tr>\n",
              "      <th>75%</th>\n",
              "      <td>157.175000</td>\n",
              "      <td>159.400000</td>\n",
              "      <td>155.150000</td>\n",
              "      <td>156.925000</td>\n",
              "      <td>156.90000</td>\n",
              "      <td>2.813594e+06</td>\n",
              "      <td>4539.015000</td>\n",
              "    </tr>\n",
              "    <tr>\n",
              "      <th>max</th>\n",
              "      <td>327.700000</td>\n",
              "      <td>328.750000</td>\n",
              "      <td>321.650000</td>\n",
              "      <td>325.950000</td>\n",
              "      <td>325.75000</td>\n",
              "      <td>2.919102e+07</td>\n",
              "      <td>55755.080000</td>\n",
              "    </tr>\n",
              "  </tbody>\n",
              "</table>\n",
              "</div>\n",
              "      <button class=\"colab-df-convert\" onclick=\"convertToInteractive('df-f0040466-b276-400d-b795-4982ae15b23d')\"\n",
              "              title=\"Convert this dataframe to an interactive table.\"\n",
              "              style=\"display:none;\">\n",
              "        \n",
              "  <svg xmlns=\"http://www.w3.org/2000/svg\" height=\"24px\"viewBox=\"0 0 24 24\"\n",
              "       width=\"24px\">\n",
              "    <path d=\"M0 0h24v24H0V0z\" fill=\"none\"/>\n",
              "    <path d=\"M18.56 5.44l.94 2.06.94-2.06 2.06-.94-2.06-.94-.94-2.06-.94 2.06-2.06.94zm-11 1L8.5 8.5l.94-2.06 2.06-.94-2.06-.94L8.5 2.5l-.94 2.06-2.06.94zm10 10l.94 2.06.94-2.06 2.06-.94-2.06-.94-.94-2.06-.94 2.06-2.06.94z\"/><path d=\"M17.41 7.96l-1.37-1.37c-.4-.4-.92-.59-1.43-.59-.52 0-1.04.2-1.43.59L10.3 9.45l-7.72 7.72c-.78.78-.78 2.05 0 2.83L4 21.41c.39.39.9.59 1.41.59.51 0 1.02-.2 1.41-.59l7.78-7.78 2.81-2.81c.8-.78.8-2.07 0-2.86zM5.41 20L4 18.59l7.72-7.72 1.47 1.35L5.41 20z\"/>\n",
              "  </svg>\n",
              "      </button>\n",
              "      \n",
              "  <style>\n",
              "    .colab-df-container {\n",
              "      display:flex;\n",
              "      flex-wrap:wrap;\n",
              "      gap: 12px;\n",
              "    }\n",
              "\n",
              "    .colab-df-convert {\n",
              "      background-color: #E8F0FE;\n",
              "      border: none;\n",
              "      border-radius: 50%;\n",
              "      cursor: pointer;\n",
              "      display: none;\n",
              "      fill: #1967D2;\n",
              "      height: 32px;\n",
              "      padding: 0 0 0 0;\n",
              "      width: 32px;\n",
              "    }\n",
              "\n",
              "    .colab-df-convert:hover {\n",
              "      background-color: #E2EBFA;\n",
              "      box-shadow: 0px 1px 2px rgba(60, 64, 67, 0.3), 0px 1px 3px 1px rgba(60, 64, 67, 0.15);\n",
              "      fill: #174EA6;\n",
              "    }\n",
              "\n",
              "    [theme=dark] .colab-df-convert {\n",
              "      background-color: #3B4455;\n",
              "      fill: #D2E3FC;\n",
              "    }\n",
              "\n",
              "    [theme=dark] .colab-df-convert:hover {\n",
              "      background-color: #434B5C;\n",
              "      box-shadow: 0px 1px 3px 1px rgba(0, 0, 0, 0.15);\n",
              "      filter: drop-shadow(0px 1px 2px rgba(0, 0, 0, 0.3));\n",
              "      fill: #FFFFFF;\n",
              "    }\n",
              "  </style>\n",
              "\n",
              "      <script>\n",
              "        const buttonEl =\n",
              "          document.querySelector('#df-f0040466-b276-400d-b795-4982ae15b23d button.colab-df-convert');\n",
              "        buttonEl.style.display =\n",
              "          google.colab.kernel.accessAllowed ? 'block' : 'none';\n",
              "\n",
              "        async function convertToInteractive(key) {\n",
              "          const element = document.querySelector('#df-f0040466-b276-400d-b795-4982ae15b23d');\n",
              "          const dataTable =\n",
              "            await google.colab.kernel.invokeFunction('convertToInteractive',\n",
              "                                                     [key], {});\n",
              "          if (!dataTable) return;\n",
              "\n",
              "          const docLinkHtml = 'Like what you see? Visit the ' +\n",
              "            '<a target=\"_blank\" href=https://colab.research.google.com/notebooks/data_table.ipynb>data table notebook</a>'\n",
              "            + ' to learn more about interactive tables.';\n",
              "          element.innerHTML = '';\n",
              "          dataTable['output_type'] = 'display_data';\n",
              "          await google.colab.output.renderOutput(dataTable, element);\n",
              "          const docLink = document.createElement('div');\n",
              "          docLink.innerHTML = docLinkHtml;\n",
              "          element.appendChild(docLink);\n",
              "        }\n",
              "      </script>\n",
              "    </div>\n",
              "  </div>\n",
              "  "
            ],
            "text/plain": [
              "              Open         High  ...  Total Trade Quantity  Turnover (Lacs)\n",
              "count  2035.000000  2035.000000  ...          2.035000e+03      2035.000000\n",
              "mean    149.713735   151.992826  ...          2.335681e+06      3899.980565\n",
              "std      48.664509    49.413109  ...          2.091778e+06      4570.767877\n",
              "min      81.100000    82.800000  ...          3.961000e+04        37.040000\n",
              "25%     120.025000   122.100000  ...          1.146444e+06      1427.460000\n",
              "50%     141.500000   143.400000  ...          1.783456e+06      2512.030000\n",
              "75%     157.175000   159.400000  ...          2.813594e+06      4539.015000\n",
              "max     327.700000   328.750000  ...          2.919102e+07     55755.080000\n",
              "\n",
              "[8 rows x 7 columns]"
            ]
          },
          "metadata": {},
          "execution_count": 7
        }
      ]
    },
    {
      "cell_type": "code",
      "source": [
        "data.isna().any()"
      ],
      "metadata": {
        "colab": {
          "base_uri": "https://localhost:8080/"
        },
        "id": "TvFwrffLh3aD",
        "outputId": "89ecd090-4a27-4b28-c7a1-48c86a9ced80"
      },
      "execution_count": 8,
      "outputs": [
        {
          "output_type": "execute_result",
          "data": {
            "text/plain": [
              "Date                    False\n",
              "Open                    False\n",
              "High                    False\n",
              "Low                     False\n",
              "Last                    False\n",
              "Close                   False\n",
              "Total Trade Quantity    False\n",
              "Turnover (Lacs)         False\n",
              "dtype: bool"
            ]
          },
          "metadata": {},
          "execution_count": 8
        }
      ]
    },
    {
      "cell_type": "code",
      "source": [
        "df= data.reset_index()['Open']\n",
        "print(df)"
      ],
      "metadata": {
        "colab": {
          "base_uri": "https://localhost:8080/"
        },
        "id": "ywo6AHLrh7Vw",
        "outputId": "27b8d368-e59d-4252-9295-061908c3c0a2"
      },
      "execution_count": 9,
      "outputs": [
        {
          "output_type": "stream",
          "name": "stdout",
          "text": [
            "0       234.05\n",
            "1       234.55\n",
            "2       240.00\n",
            "3       233.30\n",
            "4       233.55\n",
            "         ...  \n",
            "2030    117.60\n",
            "2031    120.10\n",
            "2032    121.80\n",
            "2033    120.30\n",
            "2034    122.10\n",
            "Name: Open, Length: 2035, dtype: float64\n"
          ]
        }
      ]
    },
    {
      "cell_type": "code",
      "source": [
        "plt.subplots(figsize = (30,10))\n",
        "plt.plot(df , color =\"black\")\n",
        "plt.title(\"Open\")"
      ],
      "metadata": {
        "colab": {
          "base_uri": "https://localhost:8080/",
          "height": 463
        },
        "id": "aw7fYBVIh8u2",
        "outputId": "8797f49e-346d-4ac4-e391-740c3491e33e"
      },
      "execution_count": 10,
      "outputs": [
        {
          "output_type": "execute_result",
          "data": {
            "text/plain": [
              "Text(0.5, 1.0, 'Open')"
            ]
          },
          "metadata": {},
          "execution_count": 10
        },
        {
          "output_type": "display_data",
          "data": {
            "image/png": "[encoded data removed]",
            "text/plain": [
              "<Figure size 2160x720 with 1 Axes>"
            ]
          },
          "metadata": {
            "needs_background": "light"
          }
        }
      ]
    },
    {
      "cell_type": "code",
      "source": [
        "scaler = MinMaxScaler(feature_range = (0,1))\n",
        "df = scaler.fit_transform(np.array(df).reshape(-1,1))\n",
        "df.shape\n",
        "print(df)"
      ],
      "metadata": {
        "colab": {
          "base_uri": "https://localhost:8080/"
        },
        "id": "86JRnugbiAku",
        "outputId": "706a03b6-a923-42c4-a410-6b34e72bcfb5"
      },
      "execution_count": 11,
      "outputs": [
        {
          "output_type": "stream",
          "name": "stdout",
          "text": [
            "[[0.6202352 ]\n",
            " [0.62226277]\n",
            " [0.64436334]\n",
            " ...\n",
            " [0.16504461]\n",
            " [0.15896188]\n",
            " [0.16626115]]\n"
          ]
        }
      ]
    },
    {
      "cell_type": "code",
      "source": [
        "training_size = int( len(df) * 0.75)\n",
        "testing_size  = len(df) - training_size\n",
        "train_data , test_data = df[0 : training_size, :], df[training_size : len(df), :1]\n",
        "training_size , testing_size"
      ],
      "metadata": {
        "colab": {
          "base_uri": "https://localhost:8080/"
        },
        "id": "CUkLKjM-iD6h",
        "outputId": "5956170f-a3e4-4a2f-d7c4-831893a4a6b0"
      },
      "execution_count": 12,
      "outputs": [
        {
          "output_type": "execute_result",
          "data": {
            "text/plain": [
              "(1526, 509)"
            ]
          },
          "metadata": {},
          "execution_count": 12
        }
      ]
    },
    {
      "cell_type": "code",
      "source": [
        "train_data , test_data"
      ],
      "metadata": {
        "colab": {
          "base_uri": "https://localhost:8080/"
        },
        "id": "ZlfPzRyuiILX",
        "outputId": "e2aa6cd3-8cb2-4107-80b2-735b38daab61"
      },
      "execution_count": 13,
      "outputs": [
        {
          "output_type": "execute_result",
          "data": {
            "text/plain": [
              "(array([[0.6202352 ],\n",
              "        [0.62226277],\n",
              "        [0.64436334],\n",
              "        ...,\n",
              "        [0.18491484],\n",
              "        [0.15774534],\n",
              "        [0.16180049]]), array([[0.15774534],\n",
              "        [0.15774534],\n",
              "        [0.16991079],\n",
              "        [0.13746959],\n",
              "        [0.14963504],\n",
              "        [0.16605839],\n",
              "        [0.15369019],\n",
              "        [0.14152474],\n",
              "        [0.13341444],\n",
              "        [0.13260341],\n",
              "        [0.12368208],\n",
              "        [0.12246553],\n",
              "        [0.13625304],\n",
              "        [0.11719384],\n",
              "        [0.13746959],\n",
              "        [0.15004055],\n",
              "        [0.15308191],\n",
              "        [0.15794809],\n",
              "        [0.15186537],\n",
              "        [0.14557989],\n",
              "        [0.14497161],\n",
              "        [0.14801298],\n",
              "        [0.14476886],\n",
              "        [0.11719384],\n",
              "        [0.11151663],\n",
              "        [0.10563666],\n",
              "        [0.10218978],\n",
              "        [0.09712084],\n",
              "        [0.09691809],\n",
              "        [0.11131387],\n",
              "        [0.10644769],\n",
              "        [0.11111111],\n",
              "        [0.1202352 ],\n",
              "        [0.11922141],\n",
              "        [0.13219789],\n",
              "        [0.10969181],\n",
              "        [0.11232766],\n",
              "        [0.10097324],\n",
              "        [0.09712084],\n",
              "        [0.09326845],\n",
              "        [0.10948905],\n",
              "        [0.10725872],\n",
              "        [0.11719384],\n",
              "        [0.12530414],\n",
              "        [0.10705596],\n",
              "        [0.11516626],\n",
              "        [0.11111111],\n",
              "        [0.10604217],\n",
              "        [0.10786699],\n",
              "        [0.10117599],\n",
              "        [0.10016221],\n",
              "        [0.11293593],\n",
              "        [0.09144363],\n",
              "        [0.08880779],\n",
              "        [0.10908354],\n",
              "        [0.12550689],\n",
              "        [0.1216545 ],\n",
              "        [0.12550689],\n",
              "        [0.14294404],\n",
              "        [0.14882401],\n",
              "        [0.14882401],\n",
              "        [0.15632603],\n",
              "        [0.1459854 ],\n",
              "        [0.15348743],\n",
              "        [0.14152474],\n",
              "        [0.14030819],\n",
              "        [0.14578264],\n",
              "        [0.15227088],\n",
              "        [0.14781022],\n",
              "        [0.17274939],\n",
              "        [0.18207624],\n",
              "        [0.15733982],\n",
              "        [0.15470397],\n",
              "        [0.15186537],\n",
              "        [0.14821573],\n",
              "        [0.16342255],\n",
              "        [0.1540957 ],\n",
              "        [0.13949716],\n",
              "        [0.14760746],\n",
              "        [0.14517437],\n",
              "        [0.15774534],\n",
              "        [0.1431468 ],\n",
              "        [0.12733171],\n",
              "        [0.11131387],\n",
              "        [0.11313869],\n",
              "        [0.12104623],\n",
              "        [0.11739659],\n",
              "        [0.1311841 ],\n",
              "        [0.13746959],\n",
              "        [0.17396594],\n",
              "        [0.13158962],\n",
              "        [0.11313869],\n",
              "        [0.13300892],\n",
              "        [0.14274128],\n",
              "        [0.16180049],\n",
              "        [0.15429846],\n",
              "        [0.14760746],\n",
              "        [0.15369019],\n",
              "        [0.14801298],\n",
              "        [0.13260341],\n",
              "        [0.13807786],\n",
              "        [0.15794809],\n",
              "        [0.16058394],\n",
              "        [0.17497972],\n",
              "        [0.18187348],\n",
              "        [0.16666667],\n",
              "        [0.13240065],\n",
              "        [0.15369019],\n",
              "        [0.16180049],\n",
              "        [0.14557989],\n",
              "        [0.16545012],\n",
              "        [0.15754258],\n",
              "        [0.1636253 ],\n",
              "        [0.15977291],\n",
              "        [0.16382806],\n",
              "        [0.16342255],\n",
              "        [0.15652879],\n",
              "        [0.17011354],\n",
              "        [0.14760746],\n",
              "        [0.12935929],\n",
              "        [0.14233577],\n",
              "        [0.15774534],\n",
              "        [0.11719384],\n",
              "        [0.11800487],\n",
              "        [0.14152474],\n",
              "        [0.08475264],\n",
              "        [0.06853204],\n",
              "        [0.05636659],\n",
              "        [0.05028386],\n",
              "        [0.04480941],\n",
              "        [0.04825629],\n",
              "        [0.05454177],\n",
              "        [0.0553528 ],\n",
              "        [0.06447689],\n",
              "        [0.07643958],\n",
              "        [0.01987024],\n",
              "        [0.05190592],\n",
              "        [0.04805353],\n",
              "        [0.05494728],\n",
              "        [0.04927007],\n",
              "        [0.05231144],\n",
              "        [0.05231144],\n",
              "        [0.04622871],\n",
              "        [0.05636659],\n",
              "        [0.05616383],\n",
              "        [0.04339011],\n",
              "        [0.03994323],\n",
              "        [0.04014599],\n",
              "        [0.02331711],\n",
              "        [0.02798054],\n",
              "        [0.0324412 ],\n",
              "        [0.03183293],\n",
              "        [0.03974047],\n",
              "        [0.01987024],\n",
              "        [0.02392539],\n",
              "        [0.01662612],\n",
              "        [0.02027575],\n",
              "        [0.03527981],\n",
              "        [0.02189781],\n",
              "        [0.0296026 ],\n",
              "        [0.02128954],\n",
              "        [0.03669911],\n",
              "        [0.0310219 ],\n",
              "        [0.03953771],\n",
              "        [0.04014599],\n",
              "        [0.04298459],\n",
              "        [0.03041363],\n",
              "        [0.01804542],\n",
              "        [0.01155718],\n",
              "        [0.01175994],\n",
              "        [0.00466342],\n",
              "        [0.0052717 ],\n",
              "        [0.        ],\n",
              "        [0.00608273],\n",
              "        [0.00405515],\n",
              "        [0.00567721],\n",
              "        [0.00446067],\n",
              "        [0.01175994],\n",
              "        [0.01946472],\n",
              "        [0.02473642],\n",
              "        [0.03284672],\n",
              "        [0.03345499],\n",
              "        [0.04176805],\n",
              "        [0.0405515 ],\n",
              "        [0.04257908],\n",
              "        [0.0405515 ],\n",
              "        [0.04014599],\n",
              "        [0.04318735],\n",
              "        [0.04136253],\n",
              "        [0.03203569],\n",
              "        [0.02392539],\n",
              "        [0.01824818],\n",
              "        [0.01987024],\n",
              "        [0.01784266],\n",
              "        [0.02372263],\n",
              "        [0.03081914],\n",
              "        [0.03609084],\n",
              "        [0.02879157],\n",
              "        [0.02189781],\n",
              "        [0.02919708],\n",
              "        [0.01987024],\n",
              "        [0.02047851],\n",
              "        [0.00851582],\n",
              "        [0.00587997],\n",
              "        [0.00973236],\n",
              "        [0.013382  ],\n",
              "        [0.01784266],\n",
              "        [0.01520681],\n",
              "        [0.02270884],\n",
              "        [0.03264396],\n",
              "        [0.02676399],\n",
              "        [0.02392539],\n",
              "        [0.0148013 ],\n",
              "        [0.04217356],\n",
              "        [0.04257908],\n",
              "        [0.03892944],\n",
              "        [0.03649635],\n",
              "        [0.04906732],\n",
              "        [0.04622871],\n",
              "        [0.04115977],\n",
              "        [0.04379562],\n",
              "        [0.04420114],\n",
              "        [0.05616383],\n",
              "        [0.05515004],\n",
              "        [0.05636659],\n",
              "        [0.0405515 ],\n",
              "        [0.04521492],\n",
              "        [0.05352798],\n",
              "        [0.05636659],\n",
              "        [0.03994323],\n",
              "        [0.04927007],\n",
              "        [0.04379562],\n",
              "        [0.04744526],\n",
              "        [0.04420114],\n",
              "        [0.03122466],\n",
              "        [0.02007299],\n",
              "        [0.06042174],\n",
              "        [0.06893755],\n",
              "        [0.09184915],\n",
              "        [0.09164639],\n",
              "        [0.10077048],\n",
              "        [0.09610706],\n",
              "        [0.08678021],\n",
              "        [0.08880779],\n",
              "        [0.10948905],\n",
              "        [0.1107056 ],\n",
              "        [0.09164639],\n",
              "        [0.09935118],\n",
              "        [0.10989457],\n",
              "        [0.10827251],\n",
              "        [0.1054339 ],\n",
              "        [0.10056772],\n",
              "        [0.10056772],\n",
              "        [0.09083536],\n",
              "        [0.07765612],\n",
              "        [0.08049473],\n",
              "        [0.08880779],\n",
              "        [0.08941606],\n",
              "        [0.08069749],\n",
              "        [0.09042985],\n",
              "        [0.07866991],\n",
              "        [0.08069749],\n",
              "        [0.09691809],\n",
              "        [0.07704785],\n",
              "        [0.09610706],\n",
              "        [0.09266018],\n",
              "        [0.08982157],\n",
              "        [0.09975669],\n",
              "        [0.07177616],\n",
              "        [0.06853204],\n",
              "        [0.04987835],\n",
              "        [0.05109489],\n",
              "        [0.04805353],\n",
              "        [0.04034874],\n",
              "        [0.04217356],\n",
              "        [0.03730738],\n",
              "        [0.05109489],\n",
              "        [0.05433901],\n",
              "        [0.07137064],\n",
              "        [0.0648824 ],\n",
              "        [0.06812652],\n",
              "        [0.07643958],\n",
              "        [0.08008921],\n",
              "        [0.06042174],\n",
              "        [0.06407137],\n",
              "        [0.07177616],\n",
              "        [0.05961071],\n",
              "        [0.05231144],\n",
              "        [0.04541768],\n",
              "        [0.05231144],\n",
              "        [0.04257908],\n",
              "        [0.02798054],\n",
              "        [0.02696675],\n",
              "        [0.03041363],\n",
              "        [0.01885645],\n",
              "        [0.03000811],\n",
              "        [0.04480941],\n",
              "        [0.06103001],\n",
              "        [0.06650446],\n",
              "        [0.06123277],\n",
              "        [0.06427413],\n",
              "        [0.06650446],\n",
              "        [0.06549067],\n",
              "        [0.07319546],\n",
              "        [0.06853204],\n",
              "        [0.07988646],\n",
              "        [0.07887267],\n",
              "        [0.06853204],\n",
              "        [0.06914031],\n",
              "        [0.06812652],\n",
              "        [0.06812652],\n",
              "        [0.07583131],\n",
              "        [0.07684509],\n",
              "        [0.08069749],\n",
              "        [0.08759124],\n",
              "        [0.09610706],\n",
              "        [0.09894566],\n",
              "        [0.08657745],\n",
              "        [0.08860503],\n",
              "        [0.08272506],\n",
              "        [0.08475264],\n",
              "        [0.07866991],\n",
              "        [0.09083536],\n",
              "        [0.09083536],\n",
              "        [0.08373885],\n",
              "        [0.09549878],\n",
              "        [0.11415247],\n",
              "        [0.10644769],\n",
              "        [0.1040146 ],\n",
              "        [0.10421736],\n",
              "        [0.08069749],\n",
              "        [0.06751825],\n",
              "        [0.0663017 ],\n",
              "        [0.06650446],\n",
              "        [0.07055961],\n",
              "        [0.06934307],\n",
              "        [0.07542579],\n",
              "        [0.06853204],\n",
              "        [0.06873479],\n",
              "        [0.06954582],\n",
              "        [0.07137064],\n",
              "        [0.06934307],\n",
              "        [0.06853204],\n",
              "        [0.07258719],\n",
              "        [0.07542579],\n",
              "        [0.08718573],\n",
              "        [0.06082725],\n",
              "        [0.06001622],\n",
              "        [0.0553528 ],\n",
              "        [0.03203569],\n",
              "        [0.03609084],\n",
              "        [0.03730738],\n",
              "        [0.04014599],\n",
              "        [0.03527981],\n",
              "        [0.02798054],\n",
              "        [0.03000811],\n",
              "        [0.05879968],\n",
              "        [0.06326034],\n",
              "        [0.06042174],\n",
              "        [0.05798865],\n",
              "        [0.08272506],\n",
              "        [0.05961071],\n",
              "        [0.05981346],\n",
              "        [0.05778589],\n",
              "        [0.04602595],\n",
              "        [0.0310219 ],\n",
              "        [0.02879157],\n",
              "        [0.04825629],\n",
              "        [0.06042174],\n",
              "        [0.06731549],\n",
              "        [0.06244931],\n",
              "        [0.06650446],\n",
              "        [0.07177616],\n",
              "        [0.08069749],\n",
              "        [0.07319546],\n",
              "        [0.10097324],\n",
              "        [0.10178427],\n",
              "        [0.10502839],\n",
              "        [0.09529603],\n",
              "        [0.10097324],\n",
              "        [0.0973236 ],\n",
              "        [0.09712084],\n",
              "        [0.10016221],\n",
              "        [0.09813463],\n",
              "        [0.0973236 ],\n",
              "        [0.09205191],\n",
              "        [0.08759124],\n",
              "        [0.09509327],\n",
              "        [0.11192214],\n",
              "        [0.12570965],\n",
              "        [0.12895377],\n",
              "        [0.13037307],\n",
              "        [0.12489862],\n",
              "        [0.11313869],\n",
              "        [0.11111111],\n",
              "        [0.11922141],\n",
              "        [0.11901865],\n",
              "        [0.12043796],\n",
              "        [0.12935929],\n",
              "        [0.12854826],\n",
              "        [0.13341444],\n",
              "        [0.14476886],\n",
              "        [0.14537713],\n",
              "        [0.13746959],\n",
              "        [0.13665856],\n",
              "        [0.13665856],\n",
              "        [0.1311841 ],\n",
              "        [0.13341444],\n",
              "        [0.12327656],\n",
              "        [0.14111922],\n",
              "        [0.13746959],\n",
              "        [0.13990268],\n",
              "        [0.13017032],\n",
              "        [0.14152474],\n",
              "        [0.14111922],\n",
              "        [0.13138686],\n",
              "        [0.12915653],\n",
              "        [0.13098135],\n",
              "        [0.1269262 ],\n",
              "        [0.15166261],\n",
              "        [0.15004055],\n",
              "        [0.14193025],\n",
              "        [0.16017843],\n",
              "        [0.15693431],\n",
              "        [0.16504461],\n",
              "        [0.1770073 ],\n",
              "        [0.18146796],\n",
              "        [0.18815896],\n",
              "        [0.20924574],\n",
              "        [0.19424169],\n",
              "        [0.18106245],\n",
              "        [0.18207624],\n",
              "        [0.1960665 ],\n",
              "        [0.17680454],\n",
              "        [0.18207624],\n",
              "        [0.18004866],\n",
              "        [0.18207624],\n",
              "        [0.18876723],\n",
              "        [0.19383617],\n",
              "        [0.19099757],\n",
              "        [0.19505272],\n",
              "        [0.19809408],\n",
              "        [0.20640714],\n",
              "        [0.19748581],\n",
              "        [0.19525547],\n",
              "        [0.20437956],\n",
              "        [0.19870235],\n",
              "        [0.21796431],\n",
              "        [0.21553122],\n",
              "        [0.20600162],\n",
              "        [0.21654501],\n",
              "        [0.21654501],\n",
              "        [0.2175588 ],\n",
              "        [0.19870235],\n",
              "        [0.19018654],\n",
              "        [0.17802109],\n",
              "        [0.175588  ],\n",
              "        [0.16301703],\n",
              "        [0.16707218],\n",
              "        [0.17112733],\n",
              "        [0.17639903],\n",
              "        [0.18349554],\n",
              "        [0.1717356 ],\n",
              "        [0.16423358],\n",
              "        [0.16991079],\n",
              "        [0.17619627],\n",
              "        [0.16788321],\n",
              "        [0.16909976],\n",
              "        [0.17396594],\n",
              "        [0.17741281],\n",
              "        [0.18268451],\n",
              "        [0.19221411],\n",
              "        [0.18896999],\n",
              "        [0.19018654],\n",
              "        [0.17396594],\n",
              "        [0.17092457],\n",
              "        [0.16788321],\n",
              "        [0.17477697],\n",
              "        [0.16443633],\n",
              "        [0.14557989],\n",
              "        [0.15287916],\n",
              "        [0.15369019],\n",
              "        [0.15044607],\n",
              "        [0.14152474],\n",
              "        [0.15145985],\n",
              "        [0.13341444],\n",
              "        [0.12530414],\n",
              "        [0.11719384],\n",
              "        [0.11780211],\n",
              "        [0.12489862],\n",
              "        [0.14132198],\n",
              "        [0.13098135],\n",
              "        [0.12935929],\n",
              "        [0.13240065],\n",
              "        [0.12895377],\n",
              "        [0.12530414],\n",
              "        [0.13381995],\n",
              "        [0.14557989],\n",
              "        [0.15166261],\n",
              "        [0.15085158],\n",
              "        [0.14679643],\n",
              "        [0.14355231],\n",
              "        [0.12733171],\n",
              "        [0.14963504],\n",
              "        [0.14801298],\n",
              "        [0.15815085],\n",
              "        [0.16504461],\n",
              "        [0.15896188],\n",
              "        [0.16626115]]))"
            ]
          },
          "metadata": {},
          "execution_count": 13
        }
      ]
    },
    {
      "cell_type": "code",
      "source": [
        "def create_dataset(dataset, time_step=1):\n",
        "    train_X, train_Y = [], []\n",
        "    for i in range(len(dataset)-time_step-1):\n",
        "        a = dataset[i:(i+time_step), 0]\n",
        "        train_X.append(a)\n",
        "        train_Y.append(dataset[i + time_step, 0])\n",
        "    return np.array(train_X), np.array(train_Y)"
      ],
      "metadata": {
        "id": "UAgIV7Y2iJty"
      },
      "execution_count": 14,
      "outputs": []
    },
    {
      "cell_type": "code",
      "source": [
        "time_step = 100\n",
        "x_train, y_train = create_dataset(train_data, time_step)\n",
        "x_test, y_test = create_dataset(test_data, time_step)"
      ],
      "metadata": {
        "id": "8GlgOJdWiS0_"
      },
      "execution_count": 15,
      "outputs": []
    },
    {
      "cell_type": "code",
      "source": [
        "x_train = x_train.reshape(x_train.shape[0], x_train.shape[1], 1)\n",
        "x_test = x_test.reshape(x_test.shape[0], x_test.shape[1], 1)"
      ],
      "metadata": {
        "id": "vUoMSHeViUQg"
      },
      "execution_count": 16,
      "outputs": []
    },
    {
      "cell_type": "code",
      "source": [
        "print(x_train.shape), print(y_train.shape)"
      ],
      "metadata": {
        "colab": {
          "base_uri": "https://localhost:8080/"
        },
        "id": "696GO-SyiYRJ",
        "outputId": "46da0220-b3ee-4e96-91ac-44ab993f3f20"
      },
      "execution_count": 17,
      "outputs": [
        {
          "output_type": "stream",
          "name": "stdout",
          "text": [
            "(1425, 100, 1)\n",
            "(1425,)\n"
          ]
        },
        {
          "output_type": "execute_result",
          "data": {
            "text/plain": [
              "(None, None)"
            ]
          },
          "metadata": {},
          "execution_count": 17
        }
      ]
    },
    {
      "cell_type": "code",
      "source": [
        "model = Sequential()\n",
        "model.add(LSTM(50, return_sequences = True, input_shape = (100,1)))\n",
        "model.add(LSTM(50, return_sequences = True))\n",
        "model.add(LSTM(50))\n",
        "model.add(Dense(1))\n",
        "model.compile(loss = 'mean_squared_error', optimizer = 'adam')"
      ],
      "metadata": {
        "id": "d2WKX7dlibOC"
      },
      "execution_count": 18,
      "outputs": []
    },
    {
      "cell_type": "code",
      "source": [
        "model.summary()"
      ],
      "metadata": {
        "colab": {
          "base_uri": "https://localhost:8080/"
        },
        "id": "EdwTbXrWieAP",
        "outputId": "f7fe8298-104e-4a18-bbda-c011f86b5c3c"
      },
      "execution_count": 19,
      "outputs": [
        {
          "output_type": "stream",
          "name": "stdout",
          "text": [
            "Model: \"sequential\"\n",
            "_________________________________________________________________\n",
            "Layer (type)                 Output Shape              Param #   \n",
            "=================================================================\n",
            "lstm (LSTM)                  (None, 100, 50)           10400     \n",
            "_________________________________________________________________\n",
            "lstm_1 (LSTM)                (None, 100, 50)           20200     \n",
            "_________________________________________________________________\n",
            "lstm_2 (LSTM)                (None, 50)                20200     \n",
            "_________________________________________________________________\n",
            "dense (Dense)                (None, 1)                 51        \n",
            "=================================================================\n",
            "Total params: 50,851\n",
            "Trainable params: 50,851\n",
            "Non-trainable params: 0\n",
            "_________________________________________________________________\n"
          ]
        }
      ]
    },
    {
      "cell_type": "code",
      "source": [
        "model.fit(x_train, y_train, validation_data = (x_test, y_test), epochs = 100, batch_size = 64, verbose = 1)"
      ],
      "metadata": {
        "colab": {
          "base_uri": "https://localhost:8080/"
        },
        "id": "i0Dx7nvWijSs",
        "outputId": "c8fd3a3c-040d-45c3-cd41-e4fca11922b8"
      },
      "execution_count": 20,
      "outputs": [
        {
          "output_type": "stream",
          "name": "stdout",
          "text": [
            "Epoch 1/100\n",
            "23/23 [==============================] - 21s 391ms/step - loss: 0.0201 - val_loss: 0.0084\n",
            "Epoch 2/100\n",
            "23/23 [==============================] - 8s 357ms/step - loss: 0.0022 - val_loss: 8.0364e-04\n",
            "Epoch 3/100\n",
            "23/23 [==============================] - 8s 356ms/step - loss: 0.0013 - val_loss: 0.0017\n",
            "Epoch 4/100\n",
            "23/23 [==============================] - 9s 405ms/step - loss: 0.0013 - val_loss: 0.0017\n",
            "Epoch 5/100\n",
            "23/23 [==============================] - 9s 397ms/step - loss: 0.0013 - val_loss: 0.0013\n",
            "Epoch 6/100\n",
            "23/23 [==============================] - 8s 351ms/step - loss: 0.0012 - val_loss: 0.0011\n",
            "Epoch 7/100\n",
            "23/23 [==============================] - 8s 354ms/step - loss: 0.0011 - val_loss: 0.0012\n",
            "Epoch 8/100\n",
            "23/23 [==============================] - 8s 353ms/step - loss: 0.0011 - val_loss: 0.0011\n",
            "Epoch 9/100\n",
            "23/23 [==============================] - 8s 357ms/step - loss: 0.0010 - val_loss: 9.7724e-04\n",
            "Epoch 10/100\n",
            "23/23 [==============================] - 8s 356ms/step - loss: 9.8326e-04 - val_loss: 0.0013\n",
            "Epoch 11/100\n",
            "23/23 [==============================] - 8s 354ms/step - loss: 9.5689e-04 - val_loss: 7.9233e-04\n",
            "Epoch 12/100\n",
            "23/23 [==============================] - 9s 396ms/step - loss: 9.0021e-04 - val_loss: 8.6936e-04\n",
            "Epoch 13/100\n",
            "23/23 [==============================] - 8s 355ms/step - loss: 9.0319e-04 - val_loss: 5.6345e-04\n",
            "Epoch 14/100\n",
            "23/23 [==============================] - 8s 356ms/step - loss: 8.7203e-04 - val_loss: 5.9867e-04\n",
            "Epoch 15/100\n",
            "23/23 [==============================] - 11s 500ms/step - loss: 8.2839e-04 - val_loss: 5.8461e-04\n",
            "Epoch 16/100\n",
            "23/23 [==============================] - 15s 642ms/step - loss: 7.6496e-04 - val_loss: 7.2110e-04\n",
            "Epoch 17/100\n",
            "23/23 [==============================] - 8s 356ms/step - loss: 9.5252e-04 - val_loss: 7.1216e-04\n",
            "Epoch 18/100\n",
            "23/23 [==============================] - 8s 354ms/step - loss: 7.5044e-04 - val_loss: 5.2091e-04\n",
            "Epoch 19/100\n",
            "23/23 [==============================] - 8s 358ms/step - loss: 7.1868e-04 - val_loss: 6.8327e-04\n",
            "Epoch 20/100\n",
            "23/23 [==============================] - 8s 357ms/step - loss: 7.4095e-04 - val_loss: 5.0759e-04\n",
            "Epoch 21/100\n",
            "23/23 [==============================] - 8s 357ms/step - loss: 6.9481e-04 - val_loss: 5.4553e-04\n",
            "Epoch 22/100\n",
            "23/23 [==============================] - 8s 356ms/step - loss: 6.7982e-04 - val_loss: 6.7357e-04\n",
            "Epoch 23/100\n",
            "23/23 [==============================] - 8s 356ms/step - loss: 6.4621e-04 - val_loss: 7.3031e-04\n",
            "Epoch 24/100\n",
            "23/23 [==============================] - 8s 360ms/step - loss: 8.2601e-04 - val_loss: 5.3269e-04\n",
            "Epoch 25/100\n",
            "23/23 [==============================] - 8s 357ms/step - loss: 6.7923e-04 - val_loss: 6.4207e-04\n",
            "Epoch 26/100\n",
            "23/23 [==============================] - 8s 356ms/step - loss: 6.2385e-04 - val_loss: 5.9275e-04\n",
            "Epoch 27/100\n",
            "23/23 [==============================] - 8s 355ms/step - loss: 6.1354e-04 - val_loss: 8.3882e-04\n",
            "Epoch 28/100\n",
            "23/23 [==============================] - 8s 356ms/step - loss: 6.1945e-04 - val_loss: 6.4881e-04\n",
            "Epoch 29/100\n",
            "23/23 [==============================] - 8s 355ms/step - loss: 5.9028e-04 - val_loss: 5.9767e-04\n",
            "Epoch 30/100\n",
            "23/23 [==============================] - 8s 353ms/step - loss: 8.8590e-04 - val_loss: 6.0735e-04\n",
            "Epoch 31/100\n",
            "23/23 [==============================] - 8s 356ms/step - loss: 7.0580e-04 - val_loss: 5.3913e-04\n",
            "Epoch 32/100\n",
            "23/23 [==============================] - 8s 355ms/step - loss: 6.2054e-04 - val_loss: 5.6796e-04\n",
            "Epoch 33/100\n",
            "23/23 [==============================] - 8s 355ms/step - loss: 5.9567e-04 - val_loss: 5.6327e-04\n",
            "Epoch 34/100\n",
            "23/23 [==============================] - 8s 353ms/step - loss: 5.5567e-04 - val_loss: 4.8973e-04\n",
            "Epoch 35/100\n",
            "23/23 [==============================] - 8s 353ms/step - loss: 5.5731e-04 - val_loss: 6.4676e-04\n",
            "Epoch 36/100\n",
            "23/23 [==============================] - 8s 355ms/step - loss: 5.8500e-04 - val_loss: 5.8570e-04\n",
            "Epoch 37/100\n",
            "23/23 [==============================] - 8s 356ms/step - loss: 4.8619e-04 - val_loss: 5.4219e-04\n",
            "Epoch 38/100\n",
            "23/23 [==============================] - 8s 357ms/step - loss: 5.3202e-04 - val_loss: 4.6904e-04\n",
            "Epoch 39/100\n",
            "23/23 [==============================] - 8s 356ms/step - loss: 5.3690e-04 - val_loss: 4.2179e-04\n",
            "Epoch 40/100\n",
            "23/23 [==============================] - 8s 358ms/step - loss: 4.6733e-04 - val_loss: 3.8520e-04\n",
            "Epoch 41/100\n",
            "23/23 [==============================] - 8s 358ms/step - loss: 4.7112e-04 - val_loss: 4.3357e-04\n",
            "Epoch 42/100\n",
            "23/23 [==============================] - 8s 351ms/step - loss: 5.0258e-04 - val_loss: 5.7514e-04\n",
            "Epoch 43/100\n",
            "23/23 [==============================] - 8s 353ms/step - loss: 4.4174e-04 - val_loss: 4.4216e-04\n",
            "Epoch 44/100\n",
            "23/23 [==============================] - 8s 354ms/step - loss: 4.7139e-04 - val_loss: 3.6746e-04\n",
            "Epoch 45/100\n",
            "23/23 [==============================] - 8s 354ms/step - loss: 4.1180e-04 - val_loss: 3.7951e-04\n",
            "Epoch 46/100\n",
            "23/23 [==============================] - 8s 357ms/step - loss: 3.8047e-04 - val_loss: 3.2660e-04\n",
            "Epoch 47/100\n",
            "23/23 [==============================] - 8s 357ms/step - loss: 4.0234e-04 - val_loss: 2.4817e-04\n",
            "Epoch 48/100\n",
            "23/23 [==============================] - 8s 353ms/step - loss: 5.0969e-04 - val_loss: 2.8075e-04\n",
            "Epoch 49/100\n",
            "23/23 [==============================] - 8s 356ms/step - loss: 4.7058e-04 - val_loss: 3.5264e-04\n",
            "Epoch 50/100\n",
            "23/23 [==============================] - 8s 358ms/step - loss: 3.7918e-04 - val_loss: 3.5546e-04\n",
            "Epoch 51/100\n",
            "23/23 [==============================] - 8s 360ms/step - loss: 3.3770e-04 - val_loss: 2.7393e-04\n",
            "Epoch 52/100\n",
            "23/23 [==============================] - 8s 360ms/step - loss: 3.1502e-04 - val_loss: 2.7863e-04\n",
            "Epoch 53/100\n",
            "23/23 [==============================] - 8s 364ms/step - loss: 3.2397e-04 - val_loss: 2.9136e-04\n",
            "Epoch 54/100\n",
            "23/23 [==============================] - 8s 359ms/step - loss: 3.4438e-04 - val_loss: 2.1798e-04\n",
            "Epoch 55/100\n",
            "23/23 [==============================] - 8s 354ms/step - loss: 3.2329e-04 - val_loss: 2.5561e-04\n",
            "Epoch 56/100\n",
            "23/23 [==============================] - 8s 355ms/step - loss: 3.2993e-04 - val_loss: 2.3742e-04\n",
            "Epoch 57/100\n",
            "23/23 [==============================] - 8s 356ms/step - loss: 2.8510e-04 - val_loss: 3.5489e-04\n",
            "Epoch 58/100\n",
            "23/23 [==============================] - 8s 357ms/step - loss: 2.9086e-04 - val_loss: 2.8588e-04\n",
            "Epoch 59/100\n",
            "23/23 [==============================] - 8s 356ms/step - loss: 2.8213e-04 - val_loss: 2.2948e-04\n",
            "Epoch 60/100\n",
            "23/23 [==============================] - 8s 358ms/step - loss: 2.7845e-04 - val_loss: 2.4119e-04\n",
            "Epoch 61/100\n",
            "23/23 [==============================] - 8s 361ms/step - loss: 2.6675e-04 - val_loss: 2.8039e-04\n",
            "Epoch 62/100\n",
            "23/23 [==============================] - 8s 360ms/step - loss: 2.6891e-04 - val_loss: 1.9197e-04\n",
            "Epoch 63/100\n",
            "23/23 [==============================] - 8s 355ms/step - loss: 2.6604e-04 - val_loss: 2.5481e-04\n",
            "Epoch 64/100\n",
            "23/23 [==============================] - 8s 358ms/step - loss: 2.7709e-04 - val_loss: 1.8600e-04\n",
            "Epoch 65/100\n",
            "23/23 [==============================] - 8s 357ms/step - loss: 3.1464e-04 - val_loss: 2.3913e-04\n",
            "Epoch 66/100\n",
            "23/23 [==============================] - 8s 355ms/step - loss: 2.6825e-04 - val_loss: 1.9940e-04\n",
            "Epoch 67/100\n",
            "23/23 [==============================] - 8s 358ms/step - loss: 2.6721e-04 - val_loss: 1.7435e-04\n",
            "Epoch 68/100\n",
            "23/23 [==============================] - 8s 360ms/step - loss: 2.4719e-04 - val_loss: 1.7903e-04\n",
            "Epoch 69/100\n",
            "23/23 [==============================] - 8s 359ms/step - loss: 2.5352e-04 - val_loss: 1.8610e-04\n",
            "Epoch 70/100\n",
            "23/23 [==============================] - 8s 356ms/step - loss: 2.5606e-04 - val_loss: 1.8731e-04\n",
            "Epoch 71/100\n",
            "23/23 [==============================] - 8s 358ms/step - loss: 2.6106e-04 - val_loss: 1.7013e-04\n",
            "Epoch 72/100\n",
            "23/23 [==============================] - 8s 360ms/step - loss: 2.5233e-04 - val_loss: 1.7728e-04\n",
            "Epoch 73/100\n",
            "23/23 [==============================] - 8s 360ms/step - loss: 2.4865e-04 - val_loss: 1.7042e-04\n",
            "Epoch 74/100\n",
            "23/23 [==============================] - 8s 359ms/step - loss: 2.4787e-04 - val_loss: 1.8241e-04\n",
            "Epoch 75/100\n",
            "23/23 [==============================] - 8s 359ms/step - loss: 2.7222e-04 - val_loss: 2.3688e-04\n",
            "Epoch 76/100\n",
            "23/23 [==============================] - 8s 357ms/step - loss: 2.8232e-04 - val_loss: 3.1347e-04\n",
            "Epoch 77/100\n",
            "23/23 [==============================] - 8s 357ms/step - loss: 3.3938e-04 - val_loss: 2.1336e-04\n",
            "Epoch 78/100\n",
            "23/23 [==============================] - 8s 358ms/step - loss: 2.5735e-04 - val_loss: 2.6091e-04\n",
            "Epoch 79/100\n",
            "23/23 [==============================] - 8s 361ms/step - loss: 4.0140e-04 - val_loss: 1.7930e-04\n",
            "Epoch 80/100\n",
            "23/23 [==============================] - 8s 358ms/step - loss: 3.1280e-04 - val_loss: 1.9569e-04\n",
            "Epoch 81/100\n",
            "23/23 [==============================] - 8s 359ms/step - loss: 2.7366e-04 - val_loss: 1.9789e-04\n",
            "Epoch 82/100\n",
            "23/23 [==============================] - 8s 359ms/step - loss: 2.4570e-04 - val_loss: 2.4985e-04\n",
            "Epoch 83/100\n",
            "23/23 [==============================] - 8s 359ms/step - loss: 2.4555e-04 - val_loss: 1.8947e-04\n",
            "Epoch 84/100\n",
            "23/23 [==============================] - 8s 358ms/step - loss: 2.3180e-04 - val_loss: 1.7997e-04\n",
            "Epoch 85/100\n",
            "23/23 [==============================] - 8s 358ms/step - loss: 2.3052e-04 - val_loss: 1.5360e-04\n",
            "Epoch 86/100\n",
            "23/23 [==============================] - 8s 359ms/step - loss: 2.3309e-04 - val_loss: 1.7444e-04\n",
            "Epoch 87/100\n",
            "23/23 [==============================] - 8s 358ms/step - loss: 2.6431e-04 - val_loss: 1.7367e-04\n",
            "Epoch 88/100\n",
            "23/23 [==============================] - 8s 357ms/step - loss: 2.8191e-04 - val_loss: 1.8274e-04\n",
            "Epoch 89/100\n",
            "23/23 [==============================] - 8s 359ms/step - loss: 2.4130e-04 - val_loss: 1.9734e-04\n",
            "Epoch 90/100\n",
            "23/23 [==============================] - 8s 360ms/step - loss: 2.1939e-04 - val_loss: 1.8602e-04\n",
            "Epoch 91/100\n",
            "23/23 [==============================] - 8s 360ms/step - loss: 2.3803e-04 - val_loss: 2.0975e-04\n",
            "Epoch 92/100\n",
            "23/23 [==============================] - 8s 357ms/step - loss: 2.3861e-04 - val_loss: 2.0705e-04\n",
            "Epoch 93/100\n",
            "23/23 [==============================] - 8s 356ms/step - loss: 2.2395e-04 - val_loss: 2.0001e-04\n",
            "Epoch 94/100\n",
            "23/23 [==============================] - 8s 356ms/step - loss: 2.2313e-04 - val_loss: 2.0219e-04\n",
            "Epoch 95/100\n",
            "23/23 [==============================] - 8s 358ms/step - loss: 2.4837e-04 - val_loss: 1.9005e-04\n",
            "Epoch 96/100\n",
            "23/23 [==============================] - 8s 359ms/step - loss: 2.5716e-04 - val_loss: 1.6628e-04\n",
            "Epoch 97/100\n",
            "23/23 [==============================] - 8s 360ms/step - loss: 2.9735e-04 - val_loss: 1.4947e-04\n",
            "Epoch 98/100\n",
            "23/23 [==============================] - 8s 363ms/step - loss: 2.5295e-04 - val_loss: 1.9511e-04\n",
            "Epoch 99/100\n",
            "23/23 [==============================] - 8s 360ms/step - loss: 2.5808e-04 - val_loss: 1.5740e-04\n",
            "Epoch 100/100\n",
            "23/23 [==============================] - 8s 358ms/step - loss: 2.6890e-04 - val_loss: 1.5902e-04\n"
          ]
        },
        {
          "output_type": "execute_result",
          "data": {
            "text/plain": [
              "<tensorflow.python.keras.callbacks.History at 0x7f198cb3b690>"
            ]
          },
          "metadata": {},
          "execution_count": 20
        }
      ]
    },
    {
      "cell_type": "code",
      "source": [
        "train_predict = model.predict(x_train)\n",
        "test_predict = model.predict(x_test)"
      ],
      "metadata": {
        "id": "AmsZ2v9XjE8m"
      },
      "execution_count": 21,
      "outputs": []
    },
    {
      "cell_type": "code",
      "source": [
        "train_predict = scaler.inverse_transform(train_predict)\n",
        "test_predict = scaler.inverse_transform(test_predict)\n",
        "\n",
        "print('RMSE performance matrics : ',math.sqrt(mean_squared_error(y_train, train_predict)) )"
      ],
      "metadata": {
        "colab": {
          "base_uri": "https://localhost:8080/"
        },
        "id": "_m82Pn-ql7mK",
        "outputId": "4c17a1e2-b257-4833-e6c6-d9ccebaaf255"
      },
      "execution_count": 22,
      "outputs": [
        {
          "output_type": "stream",
          "name": "stdout",
          "text": [
            "RMSE performance matrics :  163.2555615666076\n"
          ]
        }
      ]
    },
    {
      "cell_type": "code",
      "source": [
        "print(\"Test data RMSE : \",math.sqrt(mean_squared_error(y_test , test_predict)) )"
      ],
      "metadata": {
        "colab": {
          "base_uri": "https://localhost:8080/"
        },
        "id": "p5G-PgN3mCH0",
        "outputId": "e16bca70-8160-4a1c-d3be-5c0c901538fd"
      },
      "execution_count": 23,
      "outputs": [
        {
          "output_type": "stream",
          "name": "stdout",
          "text": [
            "Test data RMSE :  105.64288296517985\n"
          ]
        }
      ]
    },
    {
      "cell_type": "code",
      "source": [
        "look_back = 100\n",
        "trainPredictPlot = np.empty_like(df)\n",
        "trainPredictPlot[:,:] = np.nan\n",
        "trainPredictPlot[look_back:len(train_predict) + look_back, :] = train_predict\n",
        "\n",
        "#Shift test prediction for plotting\n",
        "\n",
        "testPredictPlot = np.empty_like(df)\n",
        "testPredictPlot[:,:] = np.nan\n",
        "testPredictPlot[len(train_predict) + (look_back * 2)+1:len(df) - 1, :] = test_predict"
      ],
      "metadata": {
        "id": "go3VUS6HmFHr"
      },
      "execution_count": 24,
      "outputs": []
    },
    {
      "cell_type": "code",
      "source": [
        "plt.subplots(figsize=(20,5))\n",
        "plt.plot(scaler.inverse_transform(df), color= 'blue')\n",
        "plt.show()"
      ],
      "metadata": {
        "colab": {
          "base_uri": "https://localhost:8080/",
          "height": 320
        },
        "id": "7mCSzh3umHn6",
        "outputId": "08fec493-e9d5-4cac-8e8a-6518035590c3"
      },
      "execution_count": 25,
      "outputs": [
        {
          "output_type": "display_data",
          "data": {
            "image/png": "[encoded data removed]",
            "text/plain": [
              "<Figure size 1440x360 with 1 Axes>"
            ]
          },
          "metadata": {
            "needs_background": "light"
          }
        }
      ]
    },
    {
      "cell_type": "code",
      "source": [
        "plt.subplots(figsize=(20,5))\n",
        "plt.plot(trainPredictPlot,color='black')\n",
        "plt.plot(testPredictPlot,color='green')\n",
        "plt.show()"
      ],
      "metadata": {
        "colab": {
          "base_uri": "https://localhost:8080/",
          "height": 320
        },
        "id": "MPpYXTQKmKRQ",
        "outputId": "87802fe4-2917-4492-dba7-e361a2d92959"
      },
      "execution_count": 26,
      "outputs": [
        {
          "output_type": "display_data",
          "data": {
            "image/png": "[encoded data removed]",
            "text/plain": [
              "<Figure size 1440x360 with 1 Axes>"
            ]
          },
          "metadata": {
            "needs_background": "light"
          }
        }
      ]
    },
    {
      "cell_type": "code",
      "source": [
        "plt.subplots(figsize=(20,10))\n",
        "plt.plot(scaler.inverse_transform(df), color= 'green')\n",
        "plt.plot(trainPredictPlot,color='black')\n",
        "plt.plot(testPredictPlot,color='red')\n",
        "plt.show()"
      ],
      "metadata": {
        "colab": {
          "base_uri": "https://localhost:8080/",
          "height": 592
        },
        "id": "GtsK6_10mMLj",
        "outputId": "435d39d6-792f-4cce-d3b1-0db697c68533"
      },
      "execution_count": 27,
      "outputs": [
        {
          "output_type": "display_data",
          "data": {
            "image/png": "[encoded data removed]",
            "text/plain": [
              "<Figure size 1440x720 with 1 Axes>"
            ]
          },
          "metadata": {
            "needs_background": "light"
          }
        }
      ]
    },
    {
      "cell_type": "code",
      "source": [
        "print(\"Length of test data : \", len(test_data))"
      ],
      "metadata": {
        "colab": {
          "base_uri": "https://localhost:8080/"
        },
        "id": "AFqyn-8tmPfA",
        "outputId": "de1050fc-a9d5-4e15-849e-890734c58549"
      },
      "execution_count": 28,
      "outputs": [
        {
          "output_type": "stream",
          "name": "stdout",
          "text": [
            "Length of test data :  509\n"
          ]
        }
      ]
    },
    {
      "cell_type": "code",
      "source": [
        "test_data.shape"
      ],
      "metadata": {
        "colab": {
          "base_uri": "https://localhost:8080/"
        },
        "id": "fcLQb3sKmTs9",
        "outputId": "f6e05810-eb49-4740-faee-37bbc00cc0ca"
      },
      "execution_count": 29,
      "outputs": [
        {
          "output_type": "execute_result",
          "data": {
            "text/plain": [
              "(509, 1)"
            ]
          },
          "metadata": {},
          "execution_count": 29
        }
      ]
    },
    {
      "cell_type": "code",
      "source": [
        "x_ip = test_data[409:].reshape(1,-1)\n",
        "x_ip.shape"
      ],
      "metadata": {
        "colab": {
          "base_uri": "https://localhost:8080/"
        },
        "id": "TLwBgMeHmWVB",
        "outputId": "8acb7a65-e624-4eed-daee-25515fed29e9"
      },
      "execution_count": 30,
      "outputs": [
        {
          "output_type": "execute_result",
          "data": {
            "text/plain": [
              "(1, 100)"
            ]
          },
          "metadata": {},
          "execution_count": 30
        }
      ]
    },
    {
      "cell_type": "code",
      "source": [
        "temp_ip = list(x_ip)\n",
        "temp_ip = temp_ip[0].tolist()"
      ],
      "metadata": {
        "id": "tGECf3YImZFj"
      },
      "execution_count": 31,
      "outputs": []
    },
    {
      "cell_type": "code",
      "source": [
        "lst_output=[]\n",
        "n_steps=100\n",
        "\n",
        "future_Days= 15\n",
        "\n",
        "i=0\n",
        "\n",
        "while(i<future_Days):\n",
        "    \n",
        "    if(len(temp_ip)>100):\n",
        "        x_ip = np.array(temp_ip[1:])\n",
        "        print(\"Day {} input {}\".format(i,x_ip))\n",
        "        \n",
        "        x_ip = x_ip.reshape(1,-1)\n",
        "        x_ip = x_ip.reshape((1, n_steps, 1))\n",
        "        yhat = model.predict(x_ip, verbose=0)\n",
        "        print(\"Day {} output {}\\n\".format(i,yhat))\n",
        "        \n",
        "        temp_ip.extend(yhat[0].tolist())\n",
        "        temp_ip = temp_ip[1:]\n",
        "        lst_output.extend(yhat.tolist())\n",
        "        i=i+1\n",
        "    else:\n",
        "        x_ip = x_ip.reshape((1, n_steps,1))\n",
        "        yhat = model.predict(x_ip, verbose=0)\n",
        "        print(yhat[0])\n",
        "        temp_ip.extend(yhat[0].tolist())\n",
        "        print(len(temp_ip))\n",
        "        lst_output.extend(yhat.tolist())\n",
        "        i=i+1"
      ],
      "metadata": {
        "colab": {
          "base_uri": "https://localhost:8080/"
        },
        "id": "E2_tyDUGmaIb",
        "outputId": "084a3b7a-745b-42e9-c4ca-e158437b5a97"
      },
      "execution_count": 32,
      "outputs": [
        {
          "output_type": "stream",
          "name": "stdout",
          "text": [
            "[0.16530678]\n",
            "101\n",
            "Day 1 input [0.13746959 0.13990268 0.13017032 0.14152474 0.14111922 0.13138686\n",
            " 0.12915653 0.13098135 0.1269262  0.15166261 0.15004055 0.14193025\n",
            " 0.16017843 0.15693431 0.16504461 0.1770073  0.18146796 0.18815896\n",
            " 0.20924574 0.19424169 0.18106245 0.18207624 0.1960665  0.17680454\n",
            " 0.18207624 0.18004866 0.18207624 0.18876723 0.19383617 0.19099757\n",
            " 0.19505272 0.19809408 0.20640714 0.19748581 0.19525547 0.20437956\n",
            " 0.19870235 0.21796431 0.21553122 0.20600162 0.21654501 0.21654501\n",
            " 0.2175588  0.19870235 0.19018654 0.17802109 0.175588   0.16301703\n",
            " 0.16707218 0.17112733 0.17639903 0.18349554 0.1717356  0.16423358\n",
            " 0.16991079 0.17619627 0.16788321 0.16909976 0.17396594 0.17741281\n",
            " 0.18268451 0.19221411 0.18896999 0.19018654 0.17396594 0.17092457\n",
            " 0.16788321 0.17477697 0.16443633 0.14557989 0.15287916 0.15369019\n",
            " 0.15044607 0.14152474 0.15145985 0.13341444 0.12530414 0.11719384\n",
            " 0.11780211 0.12489862 0.14132198 0.13098135 0.12935929 0.13240065\n",
            " 0.12895377 0.12530414 0.13381995 0.14557989 0.15166261 0.15085158\n",
            " 0.14679643 0.14355231 0.12733171 0.14963504 0.14801298 0.15815085\n",
            " 0.16504461 0.15896188 0.16626115 0.16530678]\n",
            "Day 1 output [[0.16621117]]\n",
            "\n",
            "Day 2 input [0.13990268 0.13017032 0.14152474 0.14111922 0.13138686 0.12915653\n",
            " 0.13098135 0.1269262  0.15166261 0.15004055 0.14193025 0.16017843\n",
            " 0.15693431 0.16504461 0.1770073  0.18146796 0.18815896 0.20924574\n",
            " 0.19424169 0.18106245 0.18207624 0.1960665  0.17680454 0.18207624\n",
            " 0.18004866 0.18207624 0.18876723 0.19383617 0.19099757 0.19505272\n",
            " 0.19809408 0.20640714 0.19748581 0.19525547 0.20437956 0.19870235\n",
            " 0.21796431 0.21553122 0.20600162 0.21654501 0.21654501 0.2175588\n",
            " 0.19870235 0.19018654 0.17802109 0.175588   0.16301703 0.16707218\n",
            " 0.17112733 0.17639903 0.18349554 0.1717356  0.16423358 0.16991079\n",
            " 0.17619627 0.16788321 0.16909976 0.17396594 0.17741281 0.18268451\n",
            " 0.19221411 0.18896999 0.19018654 0.17396594 0.17092457 0.16788321\n",
            " 0.17477697 0.16443633 0.14557989 0.15287916 0.15369019 0.15044607\n",
            " 0.14152474 0.15145985 0.13341444 0.12530414 0.11719384 0.11780211\n",
            " 0.12489862 0.14132198 0.13098135 0.12935929 0.13240065 0.12895377\n",
            " 0.12530414 0.13381995 0.14557989 0.15166261 0.15085158 0.14679643\n",
            " 0.14355231 0.12733171 0.14963504 0.14801298 0.15815085 0.16504461\n",
            " 0.15896188 0.16626115 0.16530678 0.16621117]\n",
            "Day 2 output [[0.16656621]]\n",
            "\n",
            "Day 3 input [0.13017032 0.14152474 0.14111922 0.13138686 0.12915653 0.13098135\n",
            " 0.1269262  0.15166261 0.15004055 0.14193025 0.16017843 0.15693431\n",
            " 0.16504461 0.1770073  0.18146796 0.18815896 0.20924574 0.19424169\n",
            " 0.18106245 0.18207624 0.1960665  0.17680454 0.18207624 0.18004866\n",
            " 0.18207624 0.18876723 0.19383617 0.19099757 0.19505272 0.19809408\n",
            " 0.20640714 0.19748581 0.19525547 0.20437956 0.19870235 0.21796431\n",
            " 0.21553122 0.20600162 0.21654501 0.21654501 0.2175588  0.19870235\n",
            " 0.19018654 0.17802109 0.175588   0.16301703 0.16707218 0.17112733\n",
            " 0.17639903 0.18349554 0.1717356  0.16423358 0.16991079 0.17619627\n",
            " 0.16788321 0.16909976 0.17396594 0.17741281 0.18268451 0.19221411\n",
            " 0.18896999 0.19018654 0.17396594 0.17092457 0.16788321 0.17477697\n",
            " 0.16443633 0.14557989 0.15287916 0.15369019 0.15044607 0.14152474\n",
            " 0.15145985 0.13341444 0.12530414 0.11719384 0.11780211 0.12489862\n",
            " 0.14132198 0.13098135 0.12935929 0.13240065 0.12895377 0.12530414\n",
            " 0.13381995 0.14557989 0.15166261 0.15085158 0.14679643 0.14355231\n",
            " 0.12733171 0.14963504 0.14801298 0.15815085 0.16504461 0.15896188\n",
            " 0.16626115 0.16530678 0.16621117 0.16656621]\n",
            "Day 3 output [[0.1666958]]\n",
            "\n",
            "Day 4 input [0.14152474 0.14111922 0.13138686 0.12915653 0.13098135 0.1269262\n",
            " 0.15166261 0.15004055 0.14193025 0.16017843 0.15693431 0.16504461\n",
            " 0.1770073  0.18146796 0.18815896 0.20924574 0.19424169 0.18106245\n",
            " 0.18207624 0.1960665  0.17680454 0.18207624 0.18004866 0.18207624\n",
            " 0.18876723 0.19383617 0.19099757 0.19505272 0.19809408 0.20640714\n",
            " 0.19748581 0.19525547 0.20437956 0.19870235 0.21796431 0.21553122\n",
            " 0.20600162 0.21654501 0.21654501 0.2175588  0.19870235 0.19018654\n",
            " 0.17802109 0.175588   0.16301703 0.16707218 0.17112733 0.17639903\n",
            " 0.18349554 0.1717356  0.16423358 0.16991079 0.17619627 0.16788321\n",
            " 0.16909976 0.17396594 0.17741281 0.18268451 0.19221411 0.18896999\n",
            " 0.19018654 0.17396594 0.17092457 0.16788321 0.17477697 0.16443633\n",
            " 0.14557989 0.15287916 0.15369019 0.15044607 0.14152474 0.15145985\n",
            " 0.13341444 0.12530414 0.11719384 0.11780211 0.12489862 0.14132198\n",
            " 0.13098135 0.12935929 0.13240065 0.12895377 0.12530414 0.13381995\n",
            " 0.14557989 0.15166261 0.15085158 0.14679643 0.14355231 0.12733171\n",
            " 0.14963504 0.14801298 0.15815085 0.16504461 0.15896188 0.16626115\n",
            " 0.16530678 0.16621117 0.16656621 0.1666958 ]\n",
            "Day 4 output [[0.16671273]]\n",
            "\n",
            "Day 5 input [0.14111922 0.13138686 0.12915653 0.13098135 0.1269262  0.15166261\n",
            " 0.15004055 0.14193025 0.16017843 0.15693431 0.16504461 0.1770073\n",
            " 0.18146796 0.18815896 0.20924574 0.19424169 0.18106245 0.18207624\n",
            " 0.1960665  0.17680454 0.18207624 0.18004866 0.18207624 0.18876723\n",
            " 0.19383617 0.19099757 0.19505272 0.19809408 0.20640714 0.19748581\n",
            " 0.19525547 0.20437956 0.19870235 0.21796431 0.21553122 0.20600162\n",
            " 0.21654501 0.21654501 0.2175588  0.19870235 0.19018654 0.17802109\n",
            " 0.175588   0.16301703 0.16707218 0.17112733 0.17639903 0.18349554\n",
            " 0.1717356  0.16423358 0.16991079 0.17619627 0.16788321 0.16909976\n",
            " 0.17396594 0.17741281 0.18268451 0.19221411 0.18896999 0.19018654\n",
            " 0.17396594 0.17092457 0.16788321 0.17477697 0.16443633 0.14557989\n",
            " 0.15287916 0.15369019 0.15044607 0.14152474 0.15145985 0.13341444\n",
            " 0.12530414 0.11719384 0.11780211 0.12489862 0.14132198 0.13098135\n",
            " 0.12935929 0.13240065 0.12895377 0.12530414 0.13381995 0.14557989\n",
            " 0.15166261 0.15085158 0.14679643 0.14355231 0.12733171 0.14963504\n",
            " 0.14801298 0.15815085 0.16504461 0.15896188 0.16626115 0.16530678\n",
            " 0.16621117 0.16656621 0.1666958  0.16671273]\n",
            "Day 5 output [[0.16668637]]\n",
            "\n",
            "Day 6 input [0.13138686 0.12915653 0.13098135 0.1269262  0.15166261 0.15004055\n",
            " 0.14193025 0.16017843 0.15693431 0.16504461 0.1770073  0.18146796\n",
            " 0.18815896 0.20924574 0.19424169 0.18106245 0.18207624 0.1960665\n",
            " 0.17680454 0.18207624 0.18004866 0.18207624 0.18876723 0.19383617\n",
            " 0.19099757 0.19505272 0.19809408 0.20640714 0.19748581 0.19525547\n",
            " 0.20437956 0.19870235 0.21796431 0.21553122 0.20600162 0.21654501\n",
            " 0.21654501 0.2175588  0.19870235 0.19018654 0.17802109 0.175588\n",
            " 0.16301703 0.16707218 0.17112733 0.17639903 0.18349554 0.1717356\n",
            " 0.16423358 0.16991079 0.17619627 0.16788321 0.16909976 0.17396594\n",
            " 0.17741281 0.18268451 0.19221411 0.18896999 0.19018654 0.17396594\n",
            " 0.17092457 0.16788321 0.17477697 0.16443633 0.14557989 0.15287916\n",
            " 0.15369019 0.15044607 0.14152474 0.15145985 0.13341444 0.12530414\n",
            " 0.11719384 0.11780211 0.12489862 0.14132198 0.13098135 0.12935929\n",
            " 0.13240065 0.12895377 0.12530414 0.13381995 0.14557989 0.15166261\n",
            " 0.15085158 0.14679643 0.14355231 0.12733171 0.14963504 0.14801298\n",
            " 0.15815085 0.16504461 0.15896188 0.16626115 0.16530678 0.16621117\n",
            " 0.16656621 0.1666958  0.16671273 0.16668637]\n",
            "Day 6 output [[0.166664]]\n",
            "\n",
            "Day 7 input [0.12915653 0.13098135 0.1269262  0.15166261 0.15004055 0.14193025\n",
            " 0.16017843 0.15693431 0.16504461 0.1770073  0.18146796 0.18815896\n",
            " 0.20924574 0.19424169 0.18106245 0.18207624 0.1960665  0.17680454\n",
            " 0.18207624 0.18004866 0.18207624 0.18876723 0.19383617 0.19099757\n",
            " 0.19505272 0.19809408 0.20640714 0.19748581 0.19525547 0.20437956\n",
            " 0.19870235 0.21796431 0.21553122 0.20600162 0.21654501 0.21654501\n",
            " 0.2175588  0.19870235 0.19018654 0.17802109 0.175588   0.16301703\n",
            " 0.16707218 0.17112733 0.17639903 0.18349554 0.1717356  0.16423358\n",
            " 0.16991079 0.17619627 0.16788321 0.16909976 0.17396594 0.17741281\n",
            " 0.18268451 0.19221411 0.18896999 0.19018654 0.17396594 0.17092457\n",
            " 0.16788321 0.17477697 0.16443633 0.14557989 0.15287916 0.15369019\n",
            " 0.15044607 0.14152474 0.15145985 0.13341444 0.12530414 0.11719384\n",
            " 0.11780211 0.12489862 0.14132198 0.13098135 0.12935929 0.13240065\n",
            " 0.12895377 0.12530414 0.13381995 0.14557989 0.15166261 0.15085158\n",
            " 0.14679643 0.14355231 0.12733171 0.14963504 0.14801298 0.15815085\n",
            " 0.16504461 0.15896188 0.16626115 0.16530678 0.16621117 0.16656621\n",
            " 0.1666958  0.16671273 0.16668637 0.166664  ]\n",
            "Day 7 output [[0.16667394]]\n",
            "\n",
            "Day 8 input [0.13098135 0.1269262  0.15166261 0.15004055 0.14193025 0.16017843\n",
            " 0.15693431 0.16504461 0.1770073  0.18146796 0.18815896 0.20924574\n",
            " 0.19424169 0.18106245 0.18207624 0.1960665  0.17680454 0.18207624\n",
            " 0.18004866 0.18207624 0.18876723 0.19383617 0.19099757 0.19505272\n",
            " 0.19809408 0.20640714 0.19748581 0.19525547 0.20437956 0.19870235\n",
            " 0.21796431 0.21553122 0.20600162 0.21654501 0.21654501 0.2175588\n",
            " 0.19870235 0.19018654 0.17802109 0.175588   0.16301703 0.16707218\n",
            " 0.17112733 0.17639903 0.18349554 0.1717356  0.16423358 0.16991079\n",
            " 0.17619627 0.16788321 0.16909976 0.17396594 0.17741281 0.18268451\n",
            " 0.19221411 0.18896999 0.19018654 0.17396594 0.17092457 0.16788321\n",
            " 0.17477697 0.16443633 0.14557989 0.15287916 0.15369019 0.15044607\n",
            " 0.14152474 0.15145985 0.13341444 0.12530414 0.11719384 0.11780211\n",
            " 0.12489862 0.14132198 0.13098135 0.12935929 0.13240065 0.12895377\n",
            " 0.12530414 0.13381995 0.14557989 0.15166261 0.15085158 0.14679643\n",
            " 0.14355231 0.12733171 0.14963504 0.14801298 0.15815085 0.16504461\n",
            " 0.15896188 0.16626115 0.16530678 0.16621117 0.16656621 0.1666958\n",
            " 0.16671273 0.16668637 0.166664   0.16667394]\n",
            "Day 8 output [[0.16672915]]\n",
            "\n",
            "Day 9 input [0.1269262  0.15166261 0.15004055 0.14193025 0.16017843 0.15693431\n",
            " 0.16504461 0.1770073  0.18146796 0.18815896 0.20924574 0.19424169\n",
            " 0.18106245 0.18207624 0.1960665  0.17680454 0.18207624 0.18004866\n",
            " 0.18207624 0.18876723 0.19383617 0.19099757 0.19505272 0.19809408\n",
            " 0.20640714 0.19748581 0.19525547 0.20437956 0.19870235 0.21796431\n",
            " 0.21553122 0.20600162 0.21654501 0.21654501 0.2175588  0.19870235\n",
            " 0.19018654 0.17802109 0.175588   0.16301703 0.16707218 0.17112733\n",
            " 0.17639903 0.18349554 0.1717356  0.16423358 0.16991079 0.17619627\n",
            " 0.16788321 0.16909976 0.17396594 0.17741281 0.18268451 0.19221411\n",
            " 0.18896999 0.19018654 0.17396594 0.17092457 0.16788321 0.17477697\n",
            " 0.16443633 0.14557989 0.15287916 0.15369019 0.15044607 0.14152474\n",
            " 0.15145985 0.13341444 0.12530414 0.11719384 0.11780211 0.12489862\n",
            " 0.14132198 0.13098135 0.12935929 0.13240065 0.12895377 0.12530414\n",
            " 0.13381995 0.14557989 0.15166261 0.15085158 0.14679643 0.14355231\n",
            " 0.12733171 0.14963504 0.14801298 0.15815085 0.16504461 0.15896188\n",
            " 0.16626115 0.16530678 0.16621117 0.16656621 0.1666958  0.16671273\n",
            " 0.16668637 0.166664   0.16667394 0.16672915]\n",
            "Day 9 output [[0.16683176]]\n",
            "\n",
            "Day 10 input [0.15166261 0.15004055 0.14193025 0.16017843 0.15693431 0.16504461\n",
            " 0.1770073  0.18146796 0.18815896 0.20924574 0.19424169 0.18106245\n",
            " 0.18207624 0.1960665  0.17680454 0.18207624 0.18004866 0.18207624\n",
            " 0.18876723 0.19383617 0.19099757 0.19505272 0.19809408 0.20640714\n",
            " 0.19748581 0.19525547 0.20437956 0.19870235 0.21796431 0.21553122\n",
            " 0.20600162 0.21654501 0.21654501 0.2175588  0.19870235 0.19018654\n",
            " 0.17802109 0.175588   0.16301703 0.16707218 0.17112733 0.17639903\n",
            " 0.18349554 0.1717356  0.16423358 0.16991079 0.17619627 0.16788321\n",
            " 0.16909976 0.17396594 0.17741281 0.18268451 0.19221411 0.18896999\n",
            " 0.19018654 0.17396594 0.17092457 0.16788321 0.17477697 0.16443633\n",
            " 0.14557989 0.15287916 0.15369019 0.15044607 0.14152474 0.15145985\n",
            " 0.13341444 0.12530414 0.11719384 0.11780211 0.12489862 0.14132198\n",
            " 0.13098135 0.12935929 0.13240065 0.12895377 0.12530414 0.13381995\n",
            " 0.14557989 0.15166261 0.15085158 0.14679643 0.14355231 0.12733171\n",
            " 0.14963504 0.14801298 0.15815085 0.16504461 0.15896188 0.16626115\n",
            " 0.16530678 0.16621117 0.16656621 0.1666958  0.16671273 0.16668637\n",
            " 0.166664   0.16667394 0.16672915 0.16683176]\n",
            "Day 10 output [[0.16697699]]\n",
            "\n",
            "Day 11 input [0.15004055 0.14193025 0.16017843 0.15693431 0.16504461 0.1770073\n",
            " 0.18146796 0.18815896 0.20924574 0.19424169 0.18106245 0.18207624\n",
            " 0.1960665  0.17680454 0.18207624 0.18004866 0.18207624 0.18876723\n",
            " 0.19383617 0.19099757 0.19505272 0.19809408 0.20640714 0.19748581\n",
            " 0.19525547 0.20437956 0.19870235 0.21796431 0.21553122 0.20600162\n",
            " 0.21654501 0.21654501 0.2175588  0.19870235 0.19018654 0.17802109\n",
            " 0.175588   0.16301703 0.16707218 0.17112733 0.17639903 0.18349554\n",
            " 0.1717356  0.16423358 0.16991079 0.17619627 0.16788321 0.16909976\n",
            " 0.17396594 0.17741281 0.18268451 0.19221411 0.18896999 0.19018654\n",
            " 0.17396594 0.17092457 0.16788321 0.17477697 0.16443633 0.14557989\n",
            " 0.15287916 0.15369019 0.15044607 0.14152474 0.15145985 0.13341444\n",
            " 0.12530414 0.11719384 0.11780211 0.12489862 0.14132198 0.13098135\n",
            " 0.12935929 0.13240065 0.12895377 0.12530414 0.13381995 0.14557989\n",
            " 0.15166261 0.15085158 0.14679643 0.14355231 0.12733171 0.14963504\n",
            " 0.14801298 0.15815085 0.16504461 0.15896188 0.16626115 0.16530678\n",
            " 0.16621117 0.16656621 0.1666958  0.16671273 0.16668637 0.166664\n",
            " 0.16667394 0.16672915 0.16683176 0.16697699]\n",
            "Day 11 output [[0.16715659]]\n",
            "\n",
            "Day 12 input [0.14193025 0.16017843 0.15693431 0.16504461 0.1770073  0.18146796\n",
            " 0.18815896 0.20924574 0.19424169 0.18106245 0.18207624 0.1960665\n",
            " 0.17680454 0.18207624 0.18004866 0.18207624 0.18876723 0.19383617\n",
            " 0.19099757 0.19505272 0.19809408 0.20640714 0.19748581 0.19525547\n",
            " 0.20437956 0.19870235 0.21796431 0.21553122 0.20600162 0.21654501\n",
            " 0.21654501 0.2175588  0.19870235 0.19018654 0.17802109 0.175588\n",
            " 0.16301703 0.16707218 0.17112733 0.17639903 0.18349554 0.1717356\n",
            " 0.16423358 0.16991079 0.17619627 0.16788321 0.16909976 0.17396594\n",
            " 0.17741281 0.18268451 0.19221411 0.18896999 0.19018654 0.17396594\n",
            " 0.17092457 0.16788321 0.17477697 0.16443633 0.14557989 0.15287916\n",
            " 0.15369019 0.15044607 0.14152474 0.15145985 0.13341444 0.12530414\n",
            " 0.11719384 0.11780211 0.12489862 0.14132198 0.13098135 0.12935929\n",
            " 0.13240065 0.12895377 0.12530414 0.13381995 0.14557989 0.15166261\n",
            " 0.15085158 0.14679643 0.14355231 0.12733171 0.14963504 0.14801298\n",
            " 0.15815085 0.16504461 0.15896188 0.16626115 0.16530678 0.16621117\n",
            " 0.16656621 0.1666958  0.16671273 0.16668637 0.166664   0.16667394\n",
            " 0.16672915 0.16683176 0.16697699 0.16715659]\n",
            "Day 12 output [[0.16736117]]\n",
            "\n",
            "Day 13 input [0.16017843 0.15693431 0.16504461 0.1770073  0.18146796 0.18815896\n",
            " 0.20924574 0.19424169 0.18106245 0.18207624 0.1960665  0.17680454\n",
            " 0.18207624 0.18004866 0.18207624 0.18876723 0.19383617 0.19099757\n",
            " 0.19505272 0.19809408 0.20640714 0.19748581 0.19525547 0.20437956\n",
            " 0.19870235 0.21796431 0.21553122 0.20600162 0.21654501 0.21654501\n",
            " 0.2175588  0.19870235 0.19018654 0.17802109 0.175588   0.16301703\n",
            " 0.16707218 0.17112733 0.17639903 0.18349554 0.1717356  0.16423358\n",
            " 0.16991079 0.17619627 0.16788321 0.16909976 0.17396594 0.17741281\n",
            " 0.18268451 0.19221411 0.18896999 0.19018654 0.17396594 0.17092457\n",
            " 0.16788321 0.17477697 0.16443633 0.14557989 0.15287916 0.15369019\n",
            " 0.15044607 0.14152474 0.15145985 0.13341444 0.12530414 0.11719384\n",
            " 0.11780211 0.12489862 0.14132198 0.13098135 0.12935929 0.13240065\n",
            " 0.12895377 0.12530414 0.13381995 0.14557989 0.15166261 0.15085158\n",
            " 0.14679643 0.14355231 0.12733171 0.14963504 0.14801298 0.15815085\n",
            " 0.16504461 0.15896188 0.16626115 0.16530678 0.16621117 0.16656621\n",
            " 0.1666958  0.16671273 0.16668637 0.166664   0.16667394 0.16672915\n",
            " 0.16683176 0.16697699 0.16715659 0.16736117]\n",
            "Day 13 output [[0.167582]]\n",
            "\n",
            "Day 14 input [0.15693431 0.16504461 0.1770073  0.18146796 0.18815896 0.20924574\n",
            " 0.19424169 0.18106245 0.18207624 0.1960665  0.17680454 0.18207624\n",
            " 0.18004866 0.18207624 0.18876723 0.19383617 0.19099757 0.19505272\n",
            " 0.19809408 0.20640714 0.19748581 0.19525547 0.20437956 0.19870235\n",
            " 0.21796431 0.21553122 0.20600162 0.21654501 0.21654501 0.2175588\n",
            " 0.19870235 0.19018654 0.17802109 0.175588   0.16301703 0.16707218\n",
            " 0.17112733 0.17639903 0.18349554 0.1717356  0.16423358 0.16991079\n",
            " 0.17619627 0.16788321 0.16909976 0.17396594 0.17741281 0.18268451\n",
            " 0.19221411 0.18896999 0.19018654 0.17396594 0.17092457 0.16788321\n",
            " 0.17477697 0.16443633 0.14557989 0.15287916 0.15369019 0.15044607\n",
            " 0.14152474 0.15145985 0.13341444 0.12530414 0.11719384 0.11780211\n",
            " 0.12489862 0.14132198 0.13098135 0.12935929 0.13240065 0.12895377\n",
            " 0.12530414 0.13381995 0.14557989 0.15166261 0.15085158 0.14679643\n",
            " 0.14355231 0.12733171 0.14963504 0.14801298 0.15815085 0.16504461\n",
            " 0.15896188 0.16626115 0.16530678 0.16621117 0.16656621 0.1666958\n",
            " 0.16671273 0.16668637 0.166664   0.16667394 0.16672915 0.16683176\n",
            " 0.16697699 0.16715659 0.16736117 0.16758201]\n",
            "Day 14 output [[0.16781196]]\n",
            "\n"
          ]
        }
      ]
    },
    {
      "cell_type": "code",
      "source": [
        "for i in range(0,future_Days):\n",
        "    print(\"Day {} output{}\".format(i,lst_output[i]))"
      ],
      "metadata": {
        "colab": {
          "base_uri": "https://localhost:8080/"
        },
        "id": "Y7FoIovFmfRR",
        "outputId": "97b1ca0f-0c67-411b-ebfc-02cdd376623f"
      },
      "execution_count": 33,
      "outputs": [
        {
          "output_type": "stream",
          "name": "stdout",
          "text": [
            "Day 0 output[0.16530677676200867]\n",
            "Day 1 output[0.16621117293834686]\n",
            "Day 2 output[0.16656620800495148]\n",
            "Day 3 output[0.16669580340385437]\n",
            "Day 4 output[0.16671273112297058]\n",
            "Day 5 output[0.16668637096881866]\n",
            "Day 6 output[0.1666640043258667]\n",
            "Day 7 output[0.166673943400383]\n",
            "Day 8 output[0.1667291522026062]\n",
            "Day 9 output[0.16683176159858704]\n",
            "Day 10 output[0.16697698831558228]\n",
            "Day 11 output[0.16715659201145172]\n",
            "Day 12 output[0.16736117005348206]\n",
            "Day 13 output[0.16758200526237488]\n",
            "Day 14 output[0.16781195998191833]\n"
          ]
        }
      ]
    },
    {
      "cell_type": "code",
      "source": [
        "day_new = np.arange(1,101)\n",
        "day_pred = np.arange(101,116)"
      ],
      "metadata": {
        "id": "OrgXeBLUmixo"
      },
      "execution_count": 34,
      "outputs": []
    },
    {
      "cell_type": "code",
      "source": [
        "fd = df.tolist()\n",
        "fd.extend(lst_output)"
      ],
      "metadata": {
        "id": "f6sw_0Vomm-y"
      },
      "execution_count": 35,
      "outputs": []
    },
    {
      "cell_type": "code",
      "source": [
        "len(df)"
      ],
      "metadata": {
        "colab": {
          "base_uri": "https://localhost:8080/"
        },
        "id": "oguul5jGmpWA",
        "outputId": "a1e596cd-9dcb-4a3b-ef3a-8eae9572e4fc"
      },
      "execution_count": 36,
      "outputs": [
        {
          "output_type": "execute_result",
          "data": {
            "text/plain": [
              "2035"
            ]
          },
          "metadata": {},
          "execution_count": 36
        }
      ]
    },
    {
      "cell_type": "code",
      "source": [
        "plt.subplots(figsize = (20,20))\n",
        "plt.plot(day_new, scaler.inverse_transform(df[1935:]))\n",
        "plt.plot(day_pred, scaler.inverse_transform(lst_output))"
      ],
      "metadata": {
        "colab": {
          "base_uri": "https://localhost:8080/",
          "height": 1000
        },
        "id": "1-SPbiOAms0G",
        "outputId": "034d83ad-a737-483a-eaff-d94646ccb14a"
      },
      "execution_count": 37,
      "outputs": [
        {
          "output_type": "execute_result",
          "data": {
            "text/plain": [
              "[<matplotlib.lines.Line2D at 0x7f198c79fad0>]"
            ]
          },
          "metadata": {},
          "execution_count": 37
        },
        {
          "output_type": "display_data",
          "data": {
            "image/png": "[encoded data removed]",
            "text/plain": [
              "<Figure size 1440x1440 with 1 Axes>"
            ]
          },
          "metadata": {
            "needs_background": "light"
          }
        }
      ]
    }
  ]
}